{
  "nbformat": 4,
  "nbformat_minor": 0,
  "metadata": {
    "colab": {
      "provenance": [],
      "authorship_tag": "ABX9TyMtN1yydt467hj71hRsxIhB",
      "include_colab_link": true
    },
    "kernelspec": {
      "name": "python3",
      "display_name": "Python 3"
    },
    "language_info": {
      "name": "python"
    }
  },
  "cells": [
    {
      "cell_type": "markdown",
      "metadata": {
        "id": "view-in-github",
        "colab_type": "text"
      },
      "source": [
        "<a href=\"https://colab.research.google.com/github/MariRye/PythonCourse/blob/main/Lab_2_2.ipynb\" target=\"_parent\"><img src=\"https://colab.research.google.com/assets/colab-badge.svg\" alt=\"Open In Colab\"/></a>"
      ]
    },
    {
      "cell_type": "code",
      "execution_count": 1,
      "metadata": {
        "id": "c4IGYOcJ-tJy"
      },
      "outputs": [],
      "source": [
        "! pip install ultralytics --quiet"
      ]
    },
    {
      "cell_type": "code",
      "source": [
        "!pip install roboflow\n",
        "\n",
        "from roboflow import Roboflow\n",
        "rf = Roboflow(api_key=\"edzDZhNN0GfPc2cU3TWZ\")\n",
        "project = rf.workspace(\"students-class\").project(\"students-isoho\")\n",
        "version = project.version(4)\n",
        "dataset = version.download(\"yolov8\")"
      ],
      "metadata": {
        "colab": {
          "base_uri": "https://localhost:8080/"
        },
        "collapsed": true,
        "id": "p3zz3pL9HBnm",
        "outputId": "c6fd00ce-bde8-41b3-ec3d-6bda8064101c"
      },
      "execution_count": 2,
      "outputs": [
        {
          "output_type": "stream",
          "name": "stdout",
          "text": [
            "Requirement already satisfied: roboflow in /usr/local/lib/python3.10/dist-packages (1.1.30)\n",
            "Requirement already satisfied: certifi==2023.7.22 in /usr/local/lib/python3.10/dist-packages (from roboflow) (2023.7.22)\n",
            "Requirement already satisfied: chardet==4.0.0 in /usr/local/lib/python3.10/dist-packages (from roboflow) (4.0.0)\n",
            "Requirement already satisfied: cycler==0.10.0 in /usr/local/lib/python3.10/dist-packages (from roboflow) (0.10.0)\n",
            "Requirement already satisfied: idna==2.10 in /usr/local/lib/python3.10/dist-packages (from roboflow) (2.10)\n",
            "Requirement already satisfied: kiwisolver>=1.3.1 in /usr/local/lib/python3.10/dist-packages (from roboflow) (1.4.5)\n",
            "Requirement already satisfied: matplotlib in /usr/local/lib/python3.10/dist-packages (from roboflow) (3.7.1)\n",
            "Requirement already satisfied: numpy>=1.18.5 in /usr/local/lib/python3.10/dist-packages (from roboflow) (1.25.2)\n",
            "Requirement already satisfied: opencv-python-headless==4.8.0.74 in /usr/local/lib/python3.10/dist-packages (from roboflow) (4.8.0.74)\n",
            "Requirement already satisfied: Pillow>=7.1.2 in /usr/local/lib/python3.10/dist-packages (from roboflow) (9.4.0)\n",
            "Requirement already satisfied: python-dateutil in /usr/local/lib/python3.10/dist-packages (from roboflow) (2.8.2)\n",
            "Requirement already satisfied: python-dotenv in /usr/local/lib/python3.10/dist-packages (from roboflow) (1.0.1)\n",
            "Requirement already satisfied: requests in /usr/local/lib/python3.10/dist-packages (from roboflow) (2.31.0)\n",
            "Requirement already satisfied: six in /usr/local/lib/python3.10/dist-packages (from roboflow) (1.16.0)\n",
            "Requirement already satisfied: urllib3>=1.26.6 in /usr/local/lib/python3.10/dist-packages (from roboflow) (2.0.7)\n",
            "Requirement already satisfied: tqdm>=4.41.0 in /usr/local/lib/python3.10/dist-packages (from roboflow) (4.66.4)\n",
            "Requirement already satisfied: PyYAML>=5.3.1 in /usr/local/lib/python3.10/dist-packages (from roboflow) (6.0.1)\n",
            "Requirement already satisfied: requests-toolbelt in /usr/local/lib/python3.10/dist-packages (from roboflow) (1.0.0)\n",
            "Requirement already satisfied: python-magic in /usr/local/lib/python3.10/dist-packages (from roboflow) (0.4.27)\n",
            "Requirement already satisfied: contourpy>=1.0.1 in /usr/local/lib/python3.10/dist-packages (from matplotlib->roboflow) (1.2.1)\n",
            "Requirement already satisfied: fonttools>=4.22.0 in /usr/local/lib/python3.10/dist-packages (from matplotlib->roboflow) (4.51.0)\n",
            "Requirement already satisfied: packaging>=20.0 in /usr/local/lib/python3.10/dist-packages (from matplotlib->roboflow) (24.0)\n",
            "Requirement already satisfied: pyparsing>=2.3.1 in /usr/local/lib/python3.10/dist-packages (from matplotlib->roboflow) (3.1.2)\n",
            "Requirement already satisfied: charset-normalizer<4,>=2 in /usr/local/lib/python3.10/dist-packages (from requests->roboflow) (3.3.2)\n",
            "loading Roboflow workspace...\n",
            "loading Roboflow project...\n",
            "Dependency ultralytics==8.0.196 is required but found version=8.2.26, to fix: `pip install ultralytics==8.0.196`\n"
          ]
        },
        {
          "output_type": "stream",
          "name": "stderr",
          "text": [
            "Downloading Dataset Version Zip in Students-4 to yolov8:: 100%|██████████| 14594/14594 [00:01<00:00, 9155.41it/s] "
          ]
        },
        {
          "output_type": "stream",
          "name": "stdout",
          "text": [
            "\n"
          ]
        },
        {
          "output_type": "stream",
          "name": "stderr",
          "text": [
            "\n",
            "Extracting Dataset Version Zip to Students-4 in yolov8:: 100%|██████████| 552/552 [00:00<00:00, 5824.63it/s]\n"
          ]
        }
      ]
    },
    {
      "cell_type": "code",
      "source": [
        "from ultralytics import YOLO\n",
        "model=YOLO(\"yolov8n.pt\")"
      ],
      "metadata": {
        "colab": {
          "base_uri": "https://localhost:8080/"
        },
        "id": "gAj60e8AHCDw",
        "outputId": "a4badccd-4e1b-4ddb-9ecc-292822e50114"
      },
      "execution_count": 3,
      "outputs": [
        {
          "output_type": "stream",
          "name": "stdout",
          "text": [
            "Downloading https://github.com/ultralytics/assets/releases/download/v8.2.0/yolov8n.pt to 'yolov8n.pt'...\n"
          ]
        },
        {
          "output_type": "stream",
          "name": "stderr",
          "text": [
            "100%|██████████| 6.23M/6.23M [00:00<00:00, 21.3MB/s]\n"
          ]
        }
      ]
    },
    {
      "cell_type": "markdown",
      "source": [
        "![image.png](data:image/png;base64,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)"
      ],
      "metadata": {
        "id": "t0ZDQ2fNHWpC"
      }
    },
    {
      "cell_type": "code",
      "source": [
        "model.train(data=\"/content/Project_Students/datasets/data.yaml\", epochs = 45, patience = 0, plots= True, project = '/content/Project_Students')"
      ],
      "metadata": {
        "colab": {
          "base_uri": "https://localhost:8080/"
        },
        "id": "FZHK2-yoHCF9",
        "outputId": "d02b5f9a-6a94-4911-c430-a32e005c83dc"
      },
      "execution_count": 4,
      "outputs": [
        {
          "metadata": {
            "tags": null
          },
          "name": "stdout",
          "output_type": "stream",
          "text": [
            "Ultralytics YOLOv8.2.26 🚀 Python-3.10.12 torch-2.3.0+cu121 CPU (Intel Xeon 2.20GHz)\n",
            "\u001b[34m\u001b[1mengine/trainer: \u001b[0mtask=detect, mode=train, model=yolov8n.pt, data=/content/Project_Students/datasets/data.yaml, epochs=45, time=None, patience=0, batch=16, imgsz=640, save=True, save_period=-1, cache=False, device=None, workers=8, project=/content/Project_Students, name=train, exist_ok=False, pretrained=True, optimizer=auto, verbose=True, seed=0, deterministic=True, single_cls=False, rect=False, cos_lr=False, close_mosaic=10, resume=False, amp=True, fraction=1.0, profile=False, freeze=None, multi_scale=False, overlap_mask=True, mask_ratio=4, dropout=0.0, val=True, split=val, save_json=False, save_hybrid=False, conf=None, iou=0.7, max_det=300, half=False, dnn=False, plots=True, source=None, vid_stride=1, stream_buffer=False, visualize=False, augment=False, agnostic_nms=False, classes=None, retina_masks=False, embed=None, show=False, save_frames=False, save_txt=False, save_conf=False, save_crop=False, show_labels=True, show_conf=True, show_boxes=True, line_width=None, format=torchscript, keras=False, optimize=False, int8=False, dynamic=False, simplify=False, opset=None, workspace=4, nms=False, lr0=0.01, lrf=0.01, momentum=0.937, weight_decay=0.0005, warmup_epochs=3.0, warmup_momentum=0.8, warmup_bias_lr=0.1, box=7.5, cls=0.5, dfl=1.5, pose=12.0, kobj=1.0, label_smoothing=0.0, nbs=64, hsv_h=0.015, hsv_s=0.7, hsv_v=0.4, degrees=0.0, translate=0.1, scale=0.5, shear=0.0, perspective=0.0, flipud=0.0, fliplr=0.5, bgr=0.0, mosaic=1.0, mixup=0.0, copy_paste=0.0, auto_augment=randaugment, erasing=0.4, crop_fraction=1.0, cfg=None, tracker=botsort.yaml, save_dir=/content/Project_Students/train\n",
            "Downloading https://ultralytics.com/assets/Arial.ttf to '/root/.config/Ultralytics/Arial.ttf'...\n"
          ]
        },
        {
          "metadata": {
            "tags": null
          },
          "name": "stderr",
          "output_type": "stream",
          "text": [
            "100%|██████████| 755k/755k [00:00<00:00, 4.35MB/s]\n"
          ]
        },
        {
          "metadata": {
            "tags": null
          },
          "name": "stdout",
          "output_type": "stream",
          "text": [
            "Overriding model.yaml nc=80 with nc=6\n",
            "\n",
            "                   from  n    params  module                                       arguments                     \n",
            "  0                  -1  1       464  ultralytics.nn.modules.conv.Conv             [3, 16, 3, 2]                 \n",
            "  1                  -1  1      4672  ultralytics.nn.modules.conv.Conv             [16, 32, 3, 2]                \n",
            "  2                  -1  1      7360  ultralytics.nn.modules.block.C2f             [32, 32, 1, True]             \n",
            "  3                  -1  1     18560  ultralytics.nn.modules.conv.Conv             [32, 64, 3, 2]                \n",
            "  4                  -1  2     49664  ultralytics.nn.modules.block.C2f             [64, 64, 2, True]             \n",
            "  5                  -1  1     73984  ultralytics.nn.modules.conv.Conv             [64, 128, 3, 2]               \n",
            "  6                  -1  2    197632  ultralytics.nn.modules.block.C2f             [128, 128, 2, True]           \n",
            "  7                  -1  1    295424  ultralytics.nn.modules.conv.Conv             [128, 256, 3, 2]              \n",
            "  8                  -1  1    460288  ultralytics.nn.modules.block.C2f             [256, 256, 1, True]           \n",
            "  9                  -1  1    164608  ultralytics.nn.modules.block.SPPF            [256, 256, 5]                 \n",
            " 10                  -1  1         0  torch.nn.modules.upsampling.Upsample         [None, 2, 'nearest']          \n",
            " 11             [-1, 6]  1         0  ultralytics.nn.modules.conv.Concat           [1]                           \n",
            " 12                  -1  1    148224  ultralytics.nn.modules.block.C2f             [384, 128, 1]                 \n",
            " 13                  -1  1         0  torch.nn.modules.upsampling.Upsample         [None, 2, 'nearest']          \n",
            " 14             [-1, 4]  1         0  ultralytics.nn.modules.conv.Concat           [1]                           \n",
            " 15                  -1  1     37248  ultralytics.nn.modules.block.C2f             [192, 64, 1]                  \n",
            " 16                  -1  1     36992  ultralytics.nn.modules.conv.Conv             [64, 64, 3, 2]                \n",
            " 17            [-1, 12]  1         0  ultralytics.nn.modules.conv.Concat           [1]                           \n",
            " 18                  -1  1    123648  ultralytics.nn.modules.block.C2f             [192, 128, 1]                 \n",
            " 19                  -1  1    147712  ultralytics.nn.modules.conv.Conv             [128, 128, 3, 2]              \n",
            " 20             [-1, 9]  1         0  ultralytics.nn.modules.conv.Concat           [1]                           \n",
            " 21                  -1  1    493056  ultralytics.nn.modules.block.C2f             [384, 256, 1]                 \n",
            " 22        [15, 18, 21]  1    752482  ultralytics.nn.modules.head.Detect           [6, [64, 128, 256]]           \n",
            "Model summary: 225 layers, 3012018 parameters, 3012002 gradients, 8.2 GFLOPs\n",
            "\n",
            "Transferred 319/355 items from pretrained weights\n",
            "\u001b[34m\u001b[1mTensorBoard: \u001b[0mStart with 'tensorboard --logdir /content/Project_Students/train', view at http://localhost:6006/\n",
            "Freezing layer 'model.22.dfl.conv.weight'\n"
          ]
        },
        {
          "metadata": {
            "tags": null
          },
          "name": "stderr",
          "output_type": "stream",
          "text": [
            "\u001b[34m\u001b[1mtrain: \u001b[0mScanning /content/Project_Students/datasets/Students-4/train/labels... 155 images, 9 backgrounds, 0 corrupt: 100%|██████████| 155/155 [00:00<00:00, 1425.22it/s]"
          ]
        },
        {
          "metadata": {
            "tags": null
          },
          "name": "stdout",
          "output_type": "stream",
          "text": [
            "\u001b[34m\u001b[1mtrain: \u001b[0mNew cache created: /content/Project_Students/datasets/Students-4/train/labels.cache\n"
          ]
        },
        {
          "metadata": {
            "tags": null
          },
          "name": "stderr",
          "output_type": "stream",
          "text": [
            "\n"
          ]
        },
        {
          "metadata": {
            "tags": null
          },
          "name": "stdout",
          "output_type": "stream",
          "text": [
            "\u001b[34m\u001b[1malbumentations: \u001b[0mBlur(p=0.01, blur_limit=(3, 7)), MedianBlur(p=0.01, blur_limit=(3, 7)), ToGray(p=0.01), CLAHE(p=0.01, clip_limit=(1, 4.0), tile_grid_size=(8, 8))\n"
          ]
        },
        {
          "metadata": {
            "tags": null
          },
          "name": "stderr",
          "output_type": "stream",
          "text": [
            "\u001b[34m\u001b[1mval: \u001b[0mScanning /content/Project_Students/datasets/Students-4/valid/labels... 108 images, 0 backgrounds, 0 corrupt: 100%|██████████| 108/108 [00:00<00:00, 1897.29it/s]"
          ]
        },
        {
          "metadata": {
            "tags": null
          },
          "name": "stdout",
          "output_type": "stream",
          "text": [
            "\u001b[34m\u001b[1mval: \u001b[0mNew cache created: /content/Project_Students/datasets/Students-4/valid/labels.cache\n"
          ]
        },
        {
          "metadata": {
            "tags": null
          },
          "name": "stderr",
          "output_type": "stream",
          "text": [
            "\n"
          ]
        },
        {
          "metadata": {
            "tags": null
          },
          "name": "stdout",
          "output_type": "stream",
          "text": [
            "Plotting labels to /content/Project_Students/train/labels.jpg... \n",
            "\u001b[34m\u001b[1moptimizer:\u001b[0m 'optimizer=auto' found, ignoring 'lr0=0.01' and 'momentum=0.937' and determining best 'optimizer', 'lr0' and 'momentum' automatically... \n",
            "\u001b[34m\u001b[1moptimizer:\u001b[0m AdamW(lr=0.001, momentum=0.9) with parameter groups 57 weight(decay=0.0), 64 weight(decay=0.0005), 63 bias(decay=0.0)\n",
            "\u001b[34m\u001b[1mTensorBoard: \u001b[0mmodel graph visualization added ✅\n",
            "Image sizes 640 train, 640 val\n",
            "Using 0 dataloader workers\n",
            "Logging results to \u001b[1m/content/Project_Students/train\u001b[0m\n",
            "Starting training for 45 epochs...\n",
            "\n",
            "      Epoch    GPU_mem   box_loss   cls_loss   dfl_loss  Instances       Size\n"
          ]
        },
        {
          "metadata": {
            "tags": null
          },
          "name": "stderr",
          "output_type": "stream",
          "text": [
            "       1/45         0G      2.812      4.168      2.421         68        640: 100%|██████████| 10/10 [02:17<00:00, 13.73s/it]\n",
            "                 Class     Images  Instances      Box(P          R      mAP50  mAP50-95): 100%|██████████| 4/4 [00:35<00:00,  8.84s/it]"
          ]
        },
        {
          "metadata": {
            "tags": null
          },
          "name": "stdout",
          "output_type": "stream",
          "text": [
            "                   all        108        716    0.00497      0.248    0.00509     0.0012\n"
          ]
        },
        {
          "metadata": {
            "tags": null
          },
          "name": "stderr",
          "output_type": "stream",
          "text": [
            "\n"
          ]
        },
        {
          "metadata": {
            "tags": null
          },
          "name": "stdout",
          "output_type": "stream",
          "text": [
            "\n",
            "      Epoch    GPU_mem   box_loss   cls_loss   dfl_loss  Instances       Size\n"
          ]
        },
        {
          "metadata": {
            "tags": null
          },
          "name": "stderr",
          "output_type": "stream",
          "text": [
            "       2/45         0G      2.363      3.844      2.079         63        640: 100%|██████████| 10/10 [02:16<00:00, 13.61s/it]\n",
            "                 Class     Images  Instances      Box(P          R      mAP50  mAP50-95): 100%|██████████| 4/4 [00:35<00:00,  8.92s/it]"
          ]
        },
        {
          "metadata": {
            "tags": null
          },
          "name": "stdout",
          "output_type": "stream",
          "text": [
            "                   all        108        716     0.0101      0.345     0.0159     0.0035\n"
          ]
        },
        {
          "metadata": {
            "tags": null
          },
          "name": "stderr",
          "output_type": "stream",
          "text": [
            "\n"
          ]
        },
        {
          "metadata": {
            "tags": null
          },
          "name": "stdout",
          "output_type": "stream",
          "text": [
            "\n",
            "      Epoch    GPU_mem   box_loss   cls_loss   dfl_loss  Instances       Size\n"
          ]
        },
        {
          "metadata": {
            "tags": null
          },
          "name": "stderr",
          "output_type": "stream",
          "text": [
            "       3/45         0G      2.274      3.472      1.878         73        640: 100%|██████████| 10/10 [02:11<00:00, 13.14s/it]\n",
            "                 Class     Images  Instances      Box(P          R      mAP50  mAP50-95): 100%|██████████| 4/4 [00:36<00:00,  9.08s/it]"
          ]
        },
        {
          "metadata": {
            "tags": null
          },
          "name": "stdout",
          "output_type": "stream",
          "text": [
            "                   all        108        716     0.0132      0.373      0.034    0.00848\n"
          ]
        },
        {
          "metadata": {
            "tags": null
          },
          "name": "stderr",
          "output_type": "stream",
          "text": [
            "\n"
          ]
        },
        {
          "metadata": {
            "tags": null
          },
          "name": "stdout",
          "output_type": "stream",
          "text": [
            "\n",
            "      Epoch    GPU_mem   box_loss   cls_loss   dfl_loss  Instances       Size\n"
          ]
        },
        {
          "metadata": {
            "tags": null
          },
          "name": "stderr",
          "output_type": "stream",
          "text": [
            "       4/45         0G      2.198       3.31      1.843         53        640: 100%|██████████| 10/10 [02:07<00:00, 12.76s/it]\n",
            "                 Class     Images  Instances      Box(P          R      mAP50  mAP50-95): 100%|██████████| 4/4 [00:37<00:00,  9.28s/it]"
          ]
        },
        {
          "metadata": {
            "tags": null
          },
          "name": "stdout",
          "output_type": "stream",
          "text": [
            "                   all        108        716     0.0105      0.383     0.0279    0.00647\n"
          ]
        },
        {
          "metadata": {
            "tags": null
          },
          "name": "stderr",
          "output_type": "stream",
          "text": [
            "\n"
          ]
        },
        {
          "metadata": {
            "tags": null
          },
          "name": "stdout",
          "output_type": "stream",
          "text": [
            "\n",
            "      Epoch    GPU_mem   box_loss   cls_loss   dfl_loss  Instances       Size\n"
          ]
        },
        {
          "metadata": {
            "tags": null
          },
          "name": "stderr",
          "output_type": "stream",
          "text": [
            "       5/45         0G      2.059      3.096      1.787        103        640: 100%|██████████| 10/10 [02:09<00:00, 12.96s/it]\n",
            "                 Class     Images  Instances      Box(P          R      mAP50  mAP50-95): 100%|██████████| 4/4 [00:36<00:00,  9.19s/it]"
          ]
        },
        {
          "metadata": {
            "tags": null
          },
          "name": "stdout",
          "output_type": "stream",
          "text": [
            "                   all        108        716     0.0084      0.314     0.0194    0.00476\n"
          ]
        },
        {
          "metadata": {
            "tags": null
          },
          "name": "stderr",
          "output_type": "stream",
          "text": [
            "\n"
          ]
        },
        {
          "metadata": {
            "tags": null
          },
          "name": "stdout",
          "output_type": "stream",
          "text": [
            "\n",
            "      Epoch    GPU_mem   box_loss   cls_loss   dfl_loss  Instances       Size\n"
          ]
        },
        {
          "metadata": {
            "tags": null
          },
          "name": "stderr",
          "output_type": "stream",
          "text": [
            "       6/45         0G      2.039      2.891      1.726         71        640: 100%|██████████| 10/10 [02:07<00:00, 12.79s/it]\n",
            "                 Class     Images  Instances      Box(P          R      mAP50  mAP50-95): 100%|██████████| 4/4 [00:36<00:00,  9.08s/it]"
          ]
        },
        {
          "metadata": {
            "tags": null
          },
          "name": "stdout",
          "output_type": "stream",
          "text": [
            "                   all        108        716    0.00815      0.322     0.0223    0.00525\n"
          ]
        },
        {
          "metadata": {
            "tags": null
          },
          "name": "stderr",
          "output_type": "stream",
          "text": [
            "\n"
          ]
        },
        {
          "metadata": {
            "tags": null
          },
          "name": "stdout",
          "output_type": "stream",
          "text": [
            "\n",
            "      Epoch    GPU_mem   box_loss   cls_loss   dfl_loss  Instances       Size\n"
          ]
        },
        {
          "metadata": {
            "tags": null
          },
          "name": "stderr",
          "output_type": "stream",
          "text": [
            "       7/45         0G      1.994      2.713      1.754        112        640: 100%|██████████| 10/10 [02:06<00:00, 12.62s/it]\n",
            "                 Class     Images  Instances      Box(P          R      mAP50  mAP50-95): 100%|██████████| 4/4 [00:36<00:00,  9.12s/it]"
          ]
        },
        {
          "metadata": {
            "tags": null
          },
          "name": "stdout",
          "output_type": "stream",
          "text": [
            "                   all        108        716    0.00855      0.363     0.0256    0.00647\n"
          ]
        },
        {
          "metadata": {
            "tags": null
          },
          "name": "stderr",
          "output_type": "stream",
          "text": [
            "\n"
          ]
        },
        {
          "metadata": {
            "tags": null
          },
          "name": "stdout",
          "output_type": "stream",
          "text": [
            "\n",
            "      Epoch    GPU_mem   box_loss   cls_loss   dfl_loss  Instances       Size\n"
          ]
        },
        {
          "metadata": {
            "tags": null
          },
          "name": "stderr",
          "output_type": "stream",
          "text": [
            "       8/45         0G      1.956      2.572       1.71         53        640: 100%|██████████| 10/10 [02:09<00:00, 12.99s/it]\n",
            "                 Class     Images  Instances      Box(P          R      mAP50  mAP50-95): 100%|██████████| 4/4 [00:37<00:00,  9.36s/it]"
          ]
        },
        {
          "metadata": {
            "tags": null
          },
          "name": "stdout",
          "output_type": "stream",
          "text": [
            "                   all        108        716      0.277     0.0246      0.027    0.00688\n"
          ]
        },
        {
          "metadata": {
            "tags": null
          },
          "name": "stderr",
          "output_type": "stream",
          "text": [
            "\n"
          ]
        },
        {
          "metadata": {
            "tags": null
          },
          "name": "stdout",
          "output_type": "stream",
          "text": [
            "\n",
            "      Epoch    GPU_mem   box_loss   cls_loss   dfl_loss  Instances       Size\n"
          ]
        },
        {
          "metadata": {
            "tags": null
          },
          "name": "stderr",
          "output_type": "stream",
          "text": [
            "       9/45         0G      1.928      2.598      1.639         74        640: 100%|██████████| 10/10 [02:13<00:00, 13.35s/it]\n",
            "                 Class     Images  Instances      Box(P          R      mAP50  mAP50-95): 100%|██████████| 4/4 [00:35<00:00,  8.89s/it]"
          ]
        },
        {
          "metadata": {
            "tags": null
          },
          "name": "stdout",
          "output_type": "stream",
          "text": [
            "                   all        108        716      0.276     0.0237     0.0274    0.00766\n"
          ]
        },
        {
          "metadata": {
            "tags": null
          },
          "name": "stderr",
          "output_type": "stream",
          "text": [
            "\n"
          ]
        },
        {
          "metadata": {
            "tags": null
          },
          "name": "stdout",
          "output_type": "stream",
          "text": [
            "\n",
            "      Epoch    GPU_mem   box_loss   cls_loss   dfl_loss  Instances       Size\n"
          ]
        },
        {
          "metadata": {
            "tags": null
          },
          "name": "stderr",
          "output_type": "stream",
          "text": [
            "      10/45         0G      1.844      2.462      1.611         81        640: 100%|██████████| 10/10 [02:11<00:00, 13.12s/it]\n",
            "                 Class     Images  Instances      Box(P          R      mAP50  mAP50-95): 100%|██████████| 4/4 [00:36<00:00,  9.19s/it]"
          ]
        },
        {
          "metadata": {
            "tags": null
          },
          "name": "stdout",
          "output_type": "stream",
          "text": [
            "                   all        108        716      0.292      0.108     0.0582     0.0143\n"
          ]
        },
        {
          "metadata": {
            "tags": null
          },
          "name": "stderr",
          "output_type": "stream",
          "text": [
            "\n"
          ]
        },
        {
          "metadata": {
            "tags": null
          },
          "name": "stdout",
          "output_type": "stream",
          "text": [
            "\n",
            "      Epoch    GPU_mem   box_loss   cls_loss   dfl_loss  Instances       Size\n"
          ]
        },
        {
          "metadata": {
            "tags": null
          },
          "name": "stderr",
          "output_type": "stream",
          "text": [
            "      11/45         0G      1.816      2.348      1.572         60        640: 100%|██████████| 10/10 [02:05<00:00, 12.59s/it]\n",
            "                 Class     Images  Instances      Box(P          R      mAP50  mAP50-95): 100%|██████████| 4/4 [00:38<00:00,  9.74s/it]"
          ]
        },
        {
          "metadata": {
            "tags": null
          },
          "name": "stdout",
          "output_type": "stream",
          "text": [
            "                   all        108        716      0.262      0.107     0.0448     0.0122\n"
          ]
        },
        {
          "metadata": {
            "tags": null
          },
          "name": "stderr",
          "output_type": "stream",
          "text": [
            "\n"
          ]
        },
        {
          "metadata": {
            "tags": null
          },
          "name": "stdout",
          "output_type": "stream",
          "text": [
            "\n",
            "      Epoch    GPU_mem   box_loss   cls_loss   dfl_loss  Instances       Size\n"
          ]
        },
        {
          "metadata": {
            "tags": null
          },
          "name": "stderr",
          "output_type": "stream",
          "text": [
            "      12/45         0G      1.819      2.279      1.555         73        640: 100%|██████████| 10/10 [02:09<00:00, 13.00s/it]\n",
            "                 Class     Images  Instances      Box(P          R      mAP50  mAP50-95): 100%|██████████| 4/4 [00:35<00:00,  8.95s/it]"
          ]
        },
        {
          "metadata": {
            "tags": null
          },
          "name": "stdout",
          "output_type": "stream",
          "text": [
            "                   all        108        716      0.281     0.0775     0.0414    0.00994\n"
          ]
        },
        {
          "metadata": {
            "tags": null
          },
          "name": "stderr",
          "output_type": "stream",
          "text": [
            "\n"
          ]
        },
        {
          "metadata": {
            "tags": null
          },
          "name": "stdout",
          "output_type": "stream",
          "text": [
            "\n",
            "      Epoch    GPU_mem   box_loss   cls_loss   dfl_loss  Instances       Size\n"
          ]
        },
        {
          "metadata": {
            "tags": null
          },
          "name": "stderr",
          "output_type": "stream",
          "text": [
            "      13/45         0G      1.682      2.218      1.513         55        640: 100%|██████████| 10/10 [02:09<00:00, 12.99s/it]\n",
            "                 Class     Images  Instances      Box(P          R      mAP50  mAP50-95): 100%|██████████| 4/4 [00:36<00:00,  9.10s/it]"
          ]
        },
        {
          "metadata": {
            "tags": null
          },
          "name": "stdout",
          "output_type": "stream",
          "text": [
            "                   all        108        716      0.237     0.0933     0.0317    0.00825\n"
          ]
        },
        {
          "metadata": {
            "tags": null
          },
          "name": "stderr",
          "output_type": "stream",
          "text": [
            "\n"
          ]
        },
        {
          "metadata": {
            "tags": null
          },
          "name": "stdout",
          "output_type": "stream",
          "text": [
            "\n",
            "      Epoch    GPU_mem   box_loss   cls_loss   dfl_loss  Instances       Size\n"
          ]
        },
        {
          "metadata": {
            "tags": null
          },
          "name": "stderr",
          "output_type": "stream",
          "text": [
            "      14/45         0G      1.727      2.055      1.487         83        640: 100%|██████████| 10/10 [02:11<00:00, 13.14s/it]\n",
            "                 Class     Images  Instances      Box(P          R      mAP50  mAP50-95): 100%|██████████| 4/4 [00:37<00:00,  9.38s/it]"
          ]
        },
        {
          "metadata": {
            "tags": null
          },
          "name": "stdout",
          "output_type": "stream",
          "text": [
            "                   all        108        716      0.252     0.0939      0.037    0.00972\n"
          ]
        },
        {
          "metadata": {
            "tags": null
          },
          "name": "stderr",
          "output_type": "stream",
          "text": [
            "\n"
          ]
        },
        {
          "metadata": {
            "tags": null
          },
          "name": "stdout",
          "output_type": "stream",
          "text": [
            "\n",
            "      Epoch    GPU_mem   box_loss   cls_loss   dfl_loss  Instances       Size\n"
          ]
        },
        {
          "metadata": {
            "tags": null
          },
          "name": "stderr",
          "output_type": "stream",
          "text": [
            "      15/45         0G      1.624      1.988      1.429         76        640: 100%|██████████| 10/10 [02:07<00:00, 12.74s/it]\n",
            "                 Class     Images  Instances      Box(P          R      mAP50  mAP50-95): 100%|██████████| 4/4 [00:36<00:00,  9.12s/it]"
          ]
        },
        {
          "metadata": {
            "tags": null
          },
          "name": "stdout",
          "output_type": "stream",
          "text": [
            "                   all        108        716     0.0851     0.0789     0.0371    0.00923\n"
          ]
        },
        {
          "metadata": {
            "tags": null
          },
          "name": "stderr",
          "output_type": "stream",
          "text": [
            "\n"
          ]
        },
        {
          "metadata": {
            "tags": null
          },
          "name": "stdout",
          "output_type": "stream",
          "text": [
            "\n",
            "      Epoch    GPU_mem   box_loss   cls_loss   dfl_loss  Instances       Size\n"
          ]
        },
        {
          "metadata": {
            "tags": null
          },
          "name": "stderr",
          "output_type": "stream",
          "text": [
            "      16/45         0G      1.572      2.012      1.438         41        640: 100%|██████████| 10/10 [02:06<00:00, 12.61s/it]\n",
            "                 Class     Images  Instances      Box(P          R      mAP50  mAP50-95): 100%|██████████| 4/4 [00:35<00:00,  8.78s/it]"
          ]
        },
        {
          "metadata": {
            "tags": null
          },
          "name": "stdout",
          "output_type": "stream",
          "text": [
            "                   all        108        716      0.117      0.113     0.0529     0.0138\n"
          ]
        },
        {
          "metadata": {
            "tags": null
          },
          "name": "stderr",
          "output_type": "stream",
          "text": [
            "\n"
          ]
        },
        {
          "metadata": {
            "tags": null
          },
          "name": "stdout",
          "output_type": "stream",
          "text": [
            "\n",
            "      Epoch    GPU_mem   box_loss   cls_loss   dfl_loss  Instances       Size\n"
          ]
        },
        {
          "metadata": {
            "tags": null
          },
          "name": "stderr",
          "output_type": "stream",
          "text": [
            "      17/45         0G      1.628       1.94      1.406         65        640: 100%|██████████| 10/10 [02:11<00:00, 13.19s/it]\n",
            "                 Class     Images  Instances      Box(P          R      mAP50  mAP50-95): 100%|██████████| 4/4 [00:35<00:00,  8.87s/it]"
          ]
        },
        {
          "metadata": {
            "tags": null
          },
          "name": "stdout",
          "output_type": "stream",
          "text": [
            "                   all        108        716     0.0769      0.103     0.0403       0.01\n"
          ]
        },
        {
          "metadata": {
            "tags": null
          },
          "name": "stderr",
          "output_type": "stream",
          "text": [
            "\n"
          ]
        },
        {
          "metadata": {
            "tags": null
          },
          "name": "stdout",
          "output_type": "stream",
          "text": [
            "\n",
            "      Epoch    GPU_mem   box_loss   cls_loss   dfl_loss  Instances       Size\n"
          ]
        },
        {
          "metadata": {
            "tags": null
          },
          "name": "stderr",
          "output_type": "stream",
          "text": [
            "      18/45         0G      1.622       1.95      1.418         48        640: 100%|██████████| 10/10 [02:05<00:00, 12.58s/it]\n",
            "                 Class     Images  Instances      Box(P          R      mAP50  mAP50-95): 100%|██████████| 4/4 [00:36<00:00,  9.24s/it]"
          ]
        },
        {
          "metadata": {
            "tags": null
          },
          "name": "stdout",
          "output_type": "stream",
          "text": [
            "                   all        108        716     0.0824      0.109     0.0444     0.0113\n"
          ]
        },
        {
          "metadata": {
            "tags": null
          },
          "name": "stderr",
          "output_type": "stream",
          "text": [
            "\n"
          ]
        },
        {
          "metadata": {
            "tags": null
          },
          "name": "stdout",
          "output_type": "stream",
          "text": [
            "\n",
            "      Epoch    GPU_mem   box_loss   cls_loss   dfl_loss  Instances       Size\n"
          ]
        },
        {
          "metadata": {
            "tags": null
          },
          "name": "stderr",
          "output_type": "stream",
          "text": [
            "      19/45         0G      1.543      1.981      1.434         59        640: 100%|██████████| 10/10 [02:05<00:00, 12.57s/it]\n",
            "                 Class     Images  Instances      Box(P          R      mAP50  mAP50-95): 100%|██████████| 4/4 [00:37<00:00,  9.31s/it]"
          ]
        },
        {
          "metadata": {
            "tags": null
          },
          "name": "stdout",
          "output_type": "stream",
          "text": [
            "                   all        108        716     0.0896     0.0737     0.0356    0.00897\n"
          ]
        },
        {
          "metadata": {
            "tags": null
          },
          "name": "stderr",
          "output_type": "stream",
          "text": [
            "\n"
          ]
        },
        {
          "metadata": {
            "tags": null
          },
          "name": "stdout",
          "output_type": "stream",
          "text": [
            "\n",
            "      Epoch    GPU_mem   box_loss   cls_loss   dfl_loss  Instances       Size\n"
          ]
        },
        {
          "metadata": {
            "tags": null
          },
          "name": "stderr",
          "output_type": "stream",
          "text": [
            "      20/45         0G      1.552      1.755      1.364         62        640: 100%|██████████| 10/10 [02:03<00:00, 12.32s/it]\n",
            "                 Class     Images  Instances      Box(P          R      mAP50  mAP50-95): 100%|██████████| 4/4 [00:38<00:00,  9.57s/it]"
          ]
        },
        {
          "metadata": {
            "tags": null
          },
          "name": "stdout",
          "output_type": "stream",
          "text": [
            "                   all        108        716      0.123      0.079     0.0479     0.0123\n"
          ]
        },
        {
          "metadata": {
            "tags": null
          },
          "name": "stderr",
          "output_type": "stream",
          "text": [
            "\n"
          ]
        },
        {
          "metadata": {
            "tags": null
          },
          "name": "stdout",
          "output_type": "stream",
          "text": [
            "\n",
            "      Epoch    GPU_mem   box_loss   cls_loss   dfl_loss  Instances       Size\n"
          ]
        },
        {
          "metadata": {
            "tags": null
          },
          "name": "stderr",
          "output_type": "stream",
          "text": [
            "      21/45         0G      1.559      1.811       1.37         57        640: 100%|██████████| 10/10 [02:05<00:00, 12.55s/it]\n",
            "                 Class     Images  Instances      Box(P          R      mAP50  mAP50-95): 100%|██████████| 4/4 [00:38<00:00,  9.54s/it]"
          ]
        },
        {
          "metadata": {
            "tags": null
          },
          "name": "stdout",
          "output_type": "stream",
          "text": [
            "                   all        108        716      0.124     0.0801     0.0459      0.013\n"
          ]
        },
        {
          "metadata": {
            "tags": null
          },
          "name": "stderr",
          "output_type": "stream",
          "text": [
            "\n"
          ]
        },
        {
          "metadata": {
            "tags": null
          },
          "name": "stdout",
          "output_type": "stream",
          "text": [
            "\n",
            "      Epoch    GPU_mem   box_loss   cls_loss   dfl_loss  Instances       Size\n"
          ]
        },
        {
          "metadata": {
            "tags": null
          },
          "name": "stderr",
          "output_type": "stream",
          "text": [
            "      22/45         0G      1.457      1.704      1.321         91        640: 100%|██████████| 10/10 [02:06<00:00, 12.66s/it]\n",
            "                 Class     Images  Instances      Box(P          R      mAP50  mAP50-95): 100%|██████████| 4/4 [00:33<00:00,  8.27s/it]"
          ]
        },
        {
          "metadata": {
            "tags": null
          },
          "name": "stdout",
          "output_type": "stream",
          "text": [
            "                   all        108        716      0.121     0.0884     0.0418     0.0109\n"
          ]
        },
        {
          "metadata": {
            "tags": null
          },
          "name": "stderr",
          "output_type": "stream",
          "text": [
            "\n"
          ]
        },
        {
          "metadata": {
            "tags": null
          },
          "name": "stdout",
          "output_type": "stream",
          "text": [
            "\n",
            "      Epoch    GPU_mem   box_loss   cls_loss   dfl_loss  Instances       Size\n"
          ]
        },
        {
          "metadata": {
            "tags": null
          },
          "name": "stderr",
          "output_type": "stream",
          "text": [
            "      23/45         0G      1.411      1.652      1.314         79        640: 100%|██████████| 10/10 [02:06<00:00, 12.69s/it]\n",
            "                 Class     Images  Instances      Box(P          R      mAP50  mAP50-95): 100%|██████████| 4/4 [00:36<00:00,  9.06s/it]"
          ]
        },
        {
          "metadata": {
            "tags": null
          },
          "name": "stdout",
          "output_type": "stream",
          "text": [
            "                   all        108        716       0.13      0.097     0.0511     0.0126\n"
          ]
        },
        {
          "metadata": {
            "tags": null
          },
          "name": "stderr",
          "output_type": "stream",
          "text": [
            "\n"
          ]
        },
        {
          "metadata": {
            "tags": null
          },
          "name": "stdout",
          "output_type": "stream",
          "text": [
            "\n",
            "      Epoch    GPU_mem   box_loss   cls_loss   dfl_loss  Instances       Size\n"
          ]
        },
        {
          "metadata": {
            "tags": null
          },
          "name": "stderr",
          "output_type": "stream",
          "text": [
            "      24/45         0G      1.444      1.478       1.28         55        640: 100%|██████████| 10/10 [02:07<00:00, 12.76s/it]\n",
            "                 Class     Images  Instances      Box(P          R      mAP50  mAP50-95): 100%|██████████| 4/4 [00:36<00:00,  9.02s/it]"
          ]
        },
        {
          "metadata": {
            "tags": null
          },
          "name": "stdout",
          "output_type": "stream",
          "text": [
            "                   all        108        716      0.153      0.101     0.0654     0.0182\n"
          ]
        },
        {
          "metadata": {
            "tags": null
          },
          "name": "stderr",
          "output_type": "stream",
          "text": [
            "\n"
          ]
        },
        {
          "metadata": {
            "tags": null
          },
          "name": "stdout",
          "output_type": "stream",
          "text": [
            "\n",
            "      Epoch    GPU_mem   box_loss   cls_loss   dfl_loss  Instances       Size\n"
          ]
        },
        {
          "metadata": {
            "tags": null
          },
          "name": "stderr",
          "output_type": "stream",
          "text": [
            "      25/45         0G      1.363      1.553      1.262         64        640: 100%|██████████| 10/10 [02:05<00:00, 12.54s/it]\n",
            "                 Class     Images  Instances      Box(P          R      mAP50  mAP50-95): 100%|██████████| 4/4 [00:34<00:00,  8.58s/it]"
          ]
        },
        {
          "metadata": {
            "tags": null
          },
          "name": "stdout",
          "output_type": "stream",
          "text": [
            "                   all        108        716      0.148      0.119     0.0665     0.0194\n"
          ]
        },
        {
          "metadata": {
            "tags": null
          },
          "name": "stderr",
          "output_type": "stream",
          "text": [
            "\n"
          ]
        },
        {
          "metadata": {
            "tags": null
          },
          "name": "stdout",
          "output_type": "stream",
          "text": [
            "\n",
            "      Epoch    GPU_mem   box_loss   cls_loss   dfl_loss  Instances       Size\n"
          ]
        },
        {
          "metadata": {
            "tags": null
          },
          "name": "stderr",
          "output_type": "stream",
          "text": [
            "      26/45         0G      1.352      1.509      1.245         87        640: 100%|██████████| 10/10 [02:08<00:00, 12.87s/it]\n",
            "                 Class     Images  Instances      Box(P          R      mAP50  mAP50-95): 100%|██████████| 4/4 [00:35<00:00,  8.81s/it]"
          ]
        },
        {
          "metadata": {
            "tags": null
          },
          "name": "stdout",
          "output_type": "stream",
          "text": [
            "                   all        108        716       0.14      0.104     0.0699     0.0187\n"
          ]
        },
        {
          "metadata": {
            "tags": null
          },
          "name": "stderr",
          "output_type": "stream",
          "text": [
            "\n"
          ]
        },
        {
          "metadata": {
            "tags": null
          },
          "name": "stdout",
          "output_type": "stream",
          "text": [
            "\n",
            "      Epoch    GPU_mem   box_loss   cls_loss   dfl_loss  Instances       Size\n"
          ]
        },
        {
          "metadata": {
            "tags": null
          },
          "name": "stderr",
          "output_type": "stream",
          "text": [
            "      27/45         0G      1.349      1.467      1.268         97        640: 100%|██████████| 10/10 [02:08<00:00, 12.81s/it]\n",
            "                 Class     Images  Instances      Box(P          R      mAP50  mAP50-95): 100%|██████████| 4/4 [00:35<00:00,  8.86s/it]"
          ]
        },
        {
          "metadata": {
            "tags": null
          },
          "name": "stdout",
          "output_type": "stream",
          "text": [
            "                   all        108        716      0.154      0.101     0.0694     0.0182\n"
          ]
        },
        {
          "metadata": {
            "tags": null
          },
          "name": "stderr",
          "output_type": "stream",
          "text": [
            "\n"
          ]
        },
        {
          "metadata": {
            "tags": null
          },
          "name": "stdout",
          "output_type": "stream",
          "text": [
            "\n",
            "      Epoch    GPU_mem   box_loss   cls_loss   dfl_loss  Instances       Size\n"
          ]
        },
        {
          "metadata": {
            "tags": null
          },
          "name": "stderr",
          "output_type": "stream",
          "text": [
            "      28/45         0G      1.283      1.419      1.231         54        640: 100%|██████████| 10/10 [02:03<00:00, 12.37s/it]\n",
            "                 Class     Images  Instances      Box(P          R      mAP50  mAP50-95): 100%|██████████| 4/4 [00:37<00:00,  9.26s/it]"
          ]
        },
        {
          "metadata": {
            "tags": null
          },
          "name": "stdout",
          "output_type": "stream",
          "text": [
            "                   all        108        716       0.17      0.106     0.0636      0.017\n"
          ]
        },
        {
          "metadata": {
            "tags": null
          },
          "name": "stderr",
          "output_type": "stream",
          "text": [
            "\n"
          ]
        },
        {
          "metadata": {
            "tags": null
          },
          "name": "stdout",
          "output_type": "stream",
          "text": [
            "\n",
            "      Epoch    GPU_mem   box_loss   cls_loss   dfl_loss  Instances       Size\n"
          ]
        },
        {
          "metadata": {
            "tags": null
          },
          "name": "stderr",
          "output_type": "stream",
          "text": [
            "      29/45         0G      1.252      1.384      1.205         96        640: 100%|██████████| 10/10 [02:05<00:00, 12.53s/it]\n",
            "                 Class     Images  Instances      Box(P          R      mAP50  mAP50-95): 100%|██████████| 4/4 [00:35<00:00,  8.95s/it]"
          ]
        },
        {
          "metadata": {
            "tags": null
          },
          "name": "stdout",
          "output_type": "stream",
          "text": [
            "                   all        108        716      0.357      0.105     0.0646     0.0191\n"
          ]
        },
        {
          "metadata": {
            "tags": null
          },
          "name": "stderr",
          "output_type": "stream",
          "text": [
            "\n"
          ]
        },
        {
          "metadata": {
            "tags": null
          },
          "name": "stdout",
          "output_type": "stream",
          "text": [
            "\n",
            "      Epoch    GPU_mem   box_loss   cls_loss   dfl_loss  Instances       Size\n"
          ]
        },
        {
          "metadata": {
            "tags": null
          },
          "name": "stderr",
          "output_type": "stream",
          "text": [
            "      30/45         0G      1.174      1.304      1.159         82        640: 100%|██████████| 10/10 [02:05<00:00, 12.59s/it]\n",
            "                 Class     Images  Instances      Box(P          R      mAP50  mAP50-95): 100%|██████████| 4/4 [00:34<00:00,  8.59s/it]"
          ]
        },
        {
          "metadata": {
            "tags": null
          },
          "name": "stdout",
          "output_type": "stream",
          "text": [
            "                   all        108        716      0.341      0.129     0.0731      0.021\n"
          ]
        },
        {
          "metadata": {
            "tags": null
          },
          "name": "stderr",
          "output_type": "stream",
          "text": [
            "\n"
          ]
        },
        {
          "metadata": {
            "tags": null
          },
          "name": "stdout",
          "output_type": "stream",
          "text": [
            "\n",
            "      Epoch    GPU_mem   box_loss   cls_loss   dfl_loss  Instances       Size\n"
          ]
        },
        {
          "metadata": {
            "tags": null
          },
          "name": "stderr",
          "output_type": "stream",
          "text": [
            "      31/45         0G      1.159      1.321      1.162         37        640: 100%|██████████| 10/10 [02:02<00:00, 12.26s/it]\n",
            "                 Class     Images  Instances      Box(P          R      mAP50  mAP50-95): 100%|██████████| 4/4 [00:34<00:00,  8.68s/it]"
          ]
        },
        {
          "metadata": {
            "tags": null
          },
          "name": "stdout",
          "output_type": "stream",
          "text": [
            "                   all        108        716      0.324      0.126     0.0778     0.0231\n"
          ]
        },
        {
          "metadata": {
            "tags": null
          },
          "name": "stderr",
          "output_type": "stream",
          "text": [
            "\n"
          ]
        },
        {
          "metadata": {
            "tags": null
          },
          "name": "stdout",
          "output_type": "stream",
          "text": [
            "\n",
            "      Epoch    GPU_mem   box_loss   cls_loss   dfl_loss  Instances       Size\n"
          ]
        },
        {
          "metadata": {
            "tags": null
          },
          "name": "stderr",
          "output_type": "stream",
          "text": [
            "      32/45         0G      1.183      1.268      1.166         55        640: 100%|██████████| 10/10 [02:05<00:00, 12.52s/it]\n",
            "                 Class     Images  Instances      Box(P          R      mAP50  mAP50-95): 100%|██████████| 4/4 [00:34<00:00,  8.55s/it]"
          ]
        },
        {
          "metadata": {
            "tags": null
          },
          "name": "stdout",
          "output_type": "stream",
          "text": [
            "                   all        108        716       0.38      0.134     0.0899     0.0275\n"
          ]
        },
        {
          "metadata": {
            "tags": null
          },
          "name": "stderr",
          "output_type": "stream",
          "text": [
            "\n"
          ]
        },
        {
          "metadata": {
            "tags": null
          },
          "name": "stdout",
          "output_type": "stream",
          "text": [
            "\n",
            "      Epoch    GPU_mem   box_loss   cls_loss   dfl_loss  Instances       Size\n"
          ]
        },
        {
          "metadata": {
            "tags": null
          },
          "name": "stderr",
          "output_type": "stream",
          "text": [
            "      33/45         0G      1.113      1.256      1.122         42        640: 100%|██████████| 10/10 [02:05<00:00, 12.52s/it]\n",
            "                 Class     Images  Instances      Box(P          R      mAP50  mAP50-95): 100%|██████████| 4/4 [00:36<00:00,  9.14s/it]"
          ]
        },
        {
          "metadata": {
            "tags": null
          },
          "name": "stdout",
          "output_type": "stream",
          "text": [
            "                   all        108        716      0.372      0.132     0.0849     0.0244\n"
          ]
        },
        {
          "metadata": {
            "tags": null
          },
          "name": "stderr",
          "output_type": "stream",
          "text": [
            "\n"
          ]
        },
        {
          "metadata": {
            "tags": null
          },
          "name": "stdout",
          "output_type": "stream",
          "text": [
            "\n",
            "      Epoch    GPU_mem   box_loss   cls_loss   dfl_loss  Instances       Size\n"
          ]
        },
        {
          "metadata": {
            "tags": null
          },
          "name": "stderr",
          "output_type": "stream",
          "text": [
            "      34/45         0G      1.092      1.183      1.107         47        640: 100%|██████████| 10/10 [02:03<00:00, 12.36s/it]\n",
            "                 Class     Images  Instances      Box(P          R      mAP50  mAP50-95): 100%|██████████| 4/4 [00:34<00:00,  8.62s/it]"
          ]
        },
        {
          "metadata": {
            "tags": null
          },
          "name": "stdout",
          "output_type": "stream",
          "text": [
            "                   all        108        716      0.353      0.122     0.0743     0.0212\n"
          ]
        },
        {
          "metadata": {
            "tags": null
          },
          "name": "stderr",
          "output_type": "stream",
          "text": [
            "\n"
          ]
        },
        {
          "metadata": {
            "tags": null
          },
          "name": "stdout",
          "output_type": "stream",
          "text": [
            "\n",
            "      Epoch    GPU_mem   box_loss   cls_loss   dfl_loss  Instances       Size\n"
          ]
        },
        {
          "metadata": {
            "tags": null
          },
          "name": "stderr",
          "output_type": "stream",
          "text": [
            "      35/45         0G      1.099      1.165      1.121         89        640: 100%|██████████| 10/10 [02:04<00:00, 12.41s/it]\n",
            "                 Class     Images  Instances      Box(P          R      mAP50  mAP50-95): 100%|██████████| 4/4 [00:34<00:00,  8.57s/it]"
          ]
        },
        {
          "metadata": {
            "tags": null
          },
          "name": "stdout",
          "output_type": "stream",
          "text": [
            "                   all        108        716      0.193      0.108      0.077     0.0201\n"
          ]
        },
        {
          "metadata": {
            "tags": null
          },
          "name": "stderr",
          "output_type": "stream",
          "text": [
            "\n"
          ]
        },
        {
          "metadata": {
            "tags": null
          },
          "name": "stdout",
          "output_type": "stream",
          "text": [
            "Closing dataloader mosaic\n",
            "\u001b[34m\u001b[1malbumentations: \u001b[0mBlur(p=0.01, blur_limit=(3, 7)), MedianBlur(p=0.01, blur_limit=(3, 7)), ToGray(p=0.01), CLAHE(p=0.01, clip_limit=(1, 4.0), tile_grid_size=(8, 8))\n",
            "\n",
            "      Epoch    GPU_mem   box_loss   cls_loss   dfl_loss  Instances       Size\n"
          ]
        },
        {
          "metadata": {
            "tags": null
          },
          "name": "stderr",
          "output_type": "stream",
          "text": [
            "      36/45         0G      1.032      1.229      1.097         33        640: 100%|██████████| 10/10 [02:03<00:00, 12.31s/it]\n",
            "                 Class     Images  Instances      Box(P          R      mAP50  mAP50-95): 100%|██████████| 4/4 [00:36<00:00,  9.09s/it]"
          ]
        },
        {
          "metadata": {
            "tags": null
          },
          "name": "stdout",
          "output_type": "stream",
          "text": [
            "                   all        108        716      0.211       0.11     0.0844     0.0251\n"
          ]
        },
        {
          "metadata": {
            "tags": null
          },
          "name": "stderr",
          "output_type": "stream",
          "text": [
            "\n"
          ]
        },
        {
          "metadata": {
            "tags": null
          },
          "name": "stdout",
          "output_type": "stream",
          "text": [
            "\n",
            "      Epoch    GPU_mem   box_loss   cls_loss   dfl_loss  Instances       Size\n"
          ]
        },
        {
          "metadata": {
            "tags": null
          },
          "name": "stderr",
          "output_type": "stream",
          "text": [
            "      37/45         0G     0.9597      1.099       1.06         52        640: 100%|██████████| 10/10 [02:05<00:00, 12.52s/it]\n",
            "                 Class     Images  Instances      Box(P          R      mAP50  mAP50-95): 100%|██████████| 4/4 [00:36<00:00,  9.12s/it]"
          ]
        },
        {
          "metadata": {
            "tags": null
          },
          "name": "stdout",
          "output_type": "stream",
          "text": [
            "                   all        108        716      0.236       0.11     0.0873     0.0268\n"
          ]
        },
        {
          "metadata": {
            "tags": null
          },
          "name": "stderr",
          "output_type": "stream",
          "text": [
            "\n"
          ]
        },
        {
          "metadata": {
            "tags": null
          },
          "name": "stdout",
          "output_type": "stream",
          "text": [
            "\n",
            "      Epoch    GPU_mem   box_loss   cls_loss   dfl_loss  Instances       Size\n"
          ]
        },
        {
          "metadata": {
            "tags": null
          },
          "name": "stderr",
          "output_type": "stream",
          "text": [
            "      38/45         0G     0.9888      1.073       1.05         46        640: 100%|██████████| 10/10 [02:03<00:00, 12.39s/it]\n",
            "                 Class     Images  Instances      Box(P          R      mAP50  mAP50-95): 100%|██████████| 4/4 [00:34<00:00,  8.53s/it]"
          ]
        },
        {
          "metadata": {
            "tags": null
          },
          "name": "stdout",
          "output_type": "stream",
          "text": [
            "                   all        108        716      0.218      0.108     0.0772     0.0233\n"
          ]
        },
        {
          "metadata": {
            "tags": null
          },
          "name": "stderr",
          "output_type": "stream",
          "text": [
            "\n"
          ]
        },
        {
          "metadata": {
            "tags": null
          },
          "name": "stdout",
          "output_type": "stream",
          "text": [
            "\n",
            "      Epoch    GPU_mem   box_loss   cls_loss   dfl_loss  Instances       Size\n"
          ]
        },
        {
          "metadata": {
            "tags": null
          },
          "name": "stderr",
          "output_type": "stream",
          "text": [
            "      39/45         0G     0.9247      1.105      1.028         40        640: 100%|██████████| 10/10 [02:02<00:00, 12.22s/it]\n",
            "                 Class     Images  Instances      Box(P          R      mAP50  mAP50-95): 100%|██████████| 4/4 [00:37<00:00,  9.29s/it]"
          ]
        },
        {
          "metadata": {
            "tags": null
          },
          "name": "stdout",
          "output_type": "stream",
          "text": [
            "                   all        108        716      0.202      0.117     0.0809     0.0258\n"
          ]
        },
        {
          "metadata": {
            "tags": null
          },
          "name": "stderr",
          "output_type": "stream",
          "text": [
            "\n"
          ]
        },
        {
          "metadata": {
            "tags": null
          },
          "name": "stdout",
          "output_type": "stream",
          "text": [
            "\n",
            "      Epoch    GPU_mem   box_loss   cls_loss   dfl_loss  Instances       Size\n"
          ]
        },
        {
          "output_type": "stream",
          "name": "stderr",
          "text": [
            "      40/45         0G     0.9666      1.066      1.049         53        640: 100%|██████████| 10/10 [02:04<00:00, 12.42s/it]\n",
            "                 Class     Images  Instances      Box(P          R      mAP50  mAP50-95): 100%|██████████| 4/4 [00:36<00:00,  9.03s/it]"
          ]
        },
        {
          "output_type": "stream",
          "name": "stdout",
          "text": [
            "                   all        108        716      0.211      0.119     0.0843     0.0246\n"
          ]
        },
        {
          "output_type": "stream",
          "name": "stderr",
          "text": [
            "\n"
          ]
        },
        {
          "output_type": "stream",
          "name": "stdout",
          "text": [
            "\n",
            "      Epoch    GPU_mem   box_loss   cls_loss   dfl_loss  Instances       Size\n"
          ]
        },
        {
          "output_type": "stream",
          "name": "stderr",
          "text": [
            "      41/45         0G      0.924       1.09      1.043        105        640: 100%|██████████| 10/10 [02:03<00:00, 12.35s/it]\n",
            "                 Class     Images  Instances      Box(P          R      mAP50  mAP50-95): 100%|██████████| 4/4 [00:35<00:00,  8.91s/it]"
          ]
        },
        {
          "output_type": "stream",
          "name": "stdout",
          "text": [
            "                   all        108        716        0.2      0.131     0.0832     0.0252\n"
          ]
        },
        {
          "output_type": "stream",
          "name": "stderr",
          "text": [
            "\n"
          ]
        },
        {
          "output_type": "stream",
          "name": "stdout",
          "text": [
            "\n",
            "      Epoch    GPU_mem   box_loss   cls_loss   dfl_loss  Instances       Size\n"
          ]
        },
        {
          "output_type": "stream",
          "name": "stderr",
          "text": [
            "      42/45         0G     0.8956      1.011      1.027         62        640: 100%|██████████| 10/10 [02:02<00:00, 12.26s/it]\n",
            "                 Class     Images  Instances      Box(P          R      mAP50  mAP50-95): 100%|██████████| 4/4 [00:35<00:00,  8.94s/it]"
          ]
        },
        {
          "output_type": "stream",
          "name": "stdout",
          "text": [
            "                   all        108        716       0.21      0.148     0.0836     0.0255\n"
          ]
        },
        {
          "output_type": "stream",
          "name": "stderr",
          "text": [
            "\n"
          ]
        },
        {
          "output_type": "stream",
          "name": "stdout",
          "text": [
            "\n",
            "      Epoch    GPU_mem   box_loss   cls_loss   dfl_loss  Instances       Size\n"
          ]
        },
        {
          "output_type": "stream",
          "name": "stderr",
          "text": [
            "      43/45         0G      0.863      1.024      1.035         31        640: 100%|██████████| 10/10 [02:02<00:00, 12.23s/it]\n",
            "                 Class     Images  Instances      Box(P          R      mAP50  mAP50-95): 100%|██████████| 4/4 [00:34<00:00,  8.66s/it]"
          ]
        },
        {
          "output_type": "stream",
          "name": "stdout",
          "text": [
            "                   all        108        716      0.177      0.151     0.0878     0.0257\n"
          ]
        },
        {
          "output_type": "stream",
          "name": "stderr",
          "text": [
            "\n"
          ]
        },
        {
          "output_type": "stream",
          "name": "stdout",
          "text": [
            "\n",
            "      Epoch    GPU_mem   box_loss   cls_loss   dfl_loss  Instances       Size\n"
          ]
        },
        {
          "output_type": "stream",
          "name": "stderr",
          "text": [
            "      44/45         0G     0.8706      1.044      1.011         37        640: 100%|██████████| 10/10 [02:00<00:00, 12.01s/it]\n",
            "                 Class     Images  Instances      Box(P          R      mAP50  mAP50-95): 100%|██████████| 4/4 [00:34<00:00,  8.65s/it]"
          ]
        },
        {
          "output_type": "stream",
          "name": "stdout",
          "text": [
            "                   all        108        716      0.183      0.144     0.0887     0.0266\n"
          ]
        },
        {
          "output_type": "stream",
          "name": "stderr",
          "text": [
            "\n"
          ]
        },
        {
          "output_type": "stream",
          "name": "stdout",
          "text": [
            "\n",
            "      Epoch    GPU_mem   box_loss   cls_loss   dfl_loss  Instances       Size\n"
          ]
        },
        {
          "output_type": "stream",
          "name": "stderr",
          "text": [
            "      45/45         0G      0.885      1.025      1.027         66        640: 100%|██████████| 10/10 [02:00<00:00, 12.01s/it]\n",
            "                 Class     Images  Instances      Box(P          R      mAP50  mAP50-95): 100%|██████████| 4/4 [00:32<00:00,  8.23s/it]"
          ]
        },
        {
          "output_type": "stream",
          "name": "stdout",
          "text": [
            "                   all        108        716      0.198       0.13     0.0882     0.0267\n"
          ]
        },
        {
          "output_type": "stream",
          "name": "stderr",
          "text": [
            "\n"
          ]
        },
        {
          "output_type": "stream",
          "name": "stdout",
          "text": [
            "\n",
            "45 epochs completed in 2.043 hours.\n",
            "Optimizer stripped from /content/Project_Students/train/weights/last.pt, 6.3MB\n",
            "Optimizer stripped from /content/Project_Students/train/weights/best.pt, 6.3MB\n",
            "\n",
            "Validating /content/Project_Students/train/weights/best.pt...\n",
            "Ultralytics YOLOv8.2.26 🚀 Python-3.10.12 torch-2.3.0+cu121 CPU (Intel Xeon 2.20GHz)\n",
            "Model summary (fused): 168 layers, 3006818 parameters, 0 gradients, 8.1 GFLOPs\n"
          ]
        },
        {
          "output_type": "stream",
          "name": "stderr",
          "text": [
            "                 Class     Images  Instances      Box(P          R      mAP50  mAP50-95): 100%|██████████| 4/4 [00:34<00:00,  8.54s/it]\n"
          ]
        },
        {
          "output_type": "stream",
          "name": "stdout",
          "text": [
            "                   all        108        716       0.38      0.134     0.0897     0.0274\n",
            "           bowing-head         18         25      0.328       0.08     0.0728     0.0318\n",
            "          hand-raising         36        122      0.256      0.041     0.0385     0.0116\n",
            "learning-over-the-table         59        330      0.143      0.276      0.119     0.0312\n",
            "               reading         39        126      0.352      0.181      0.175     0.0548\n",
            "          using-mobile          8         20          1          0   0.000756   0.000146\n",
            "               writing         35         93      0.199      0.226      0.131      0.035\n",
            "Speed: 3.6ms preprocess, 264.1ms inference, 0.0ms loss, 17.2ms postprocess per image\n",
            "Results saved to \u001b[1m/content/Project_Students/train\u001b[0m\n"
          ]
        },
        {
          "output_type": "execute_result",
          "data": {
            "text/plain": [
              "ultralytics.utils.metrics.DetMetrics object with attributes:\n",
              "\n",
              "ap_class_index: array([0, 1, 2, 3, 4, 5])\n",
              "box: ultralytics.utils.metrics.Metric object\n",
              "confusion_matrix: <ultralytics.utils.metrics.ConfusionMatrix object at 0x78cadf763a90>\n",
              "curves: ['Precision-Recall(B)', 'F1-Confidence(B)', 'Precision-Confidence(B)', 'Recall-Confidence(B)']\n",
              "curves_results: [[array([          0,    0.001001,    0.002002,    0.003003,    0.004004,    0.005005,    0.006006,    0.007007,    0.008008,    0.009009,     0.01001,    0.011011,    0.012012,    0.013013,    0.014014,    0.015015,    0.016016,    0.017017,    0.018018,    0.019019,     0.02002,    0.021021,    0.022022,    0.023023,\n",
              "          0.024024,    0.025025,    0.026026,    0.027027,    0.028028,    0.029029,     0.03003,    0.031031,    0.032032,    0.033033,    0.034034,    0.035035,    0.036036,    0.037037,    0.038038,    0.039039,     0.04004,    0.041041,    0.042042,    0.043043,    0.044044,    0.045045,    0.046046,    0.047047,\n",
              "          0.048048,    0.049049,     0.05005,    0.051051,    0.052052,    0.053053,    0.054054,    0.055055,    0.056056,    0.057057,    0.058058,    0.059059,     0.06006,    0.061061,    0.062062,    0.063063,    0.064064,    0.065065,    0.066066,    0.067067,    0.068068,    0.069069,     0.07007,    0.071071,\n",
              "          0.072072,    0.073073,    0.074074,    0.075075,    0.076076,    0.077077,    0.078078,    0.079079,     0.08008,    0.081081,    0.082082,    0.083083,    0.084084,    0.085085,    0.086086,    0.087087,    0.088088,    0.089089,     0.09009,    0.091091,    0.092092,    0.093093,    0.094094,    0.095095,\n",
              "          0.096096,    0.097097,    0.098098,    0.099099,      0.1001,      0.1011,      0.1021,      0.1031,      0.1041,     0.10511,     0.10611,     0.10711,     0.10811,     0.10911,     0.11011,     0.11111,     0.11211,     0.11311,     0.11411,     0.11512,     0.11612,     0.11712,     0.11812,     0.11912,\n",
              "           0.12012,     0.12112,     0.12212,     0.12312,     0.12412,     0.12513,     0.12613,     0.12713,     0.12813,     0.12913,     0.13013,     0.13113,     0.13213,     0.13313,     0.13413,     0.13514,     0.13614,     0.13714,     0.13814,     0.13914,     0.14014,     0.14114,     0.14214,     0.14314,\n",
              "           0.14414,     0.14515,     0.14615,     0.14715,     0.14815,     0.14915,     0.15015,     0.15115,     0.15215,     0.15315,     0.15415,     0.15516,     0.15616,     0.15716,     0.15816,     0.15916,     0.16016,     0.16116,     0.16216,     0.16316,     0.16416,     0.16517,     0.16617,     0.16717,\n",
              "           0.16817,     0.16917,     0.17017,     0.17117,     0.17217,     0.17317,     0.17417,     0.17518,     0.17618,     0.17718,     0.17818,     0.17918,     0.18018,     0.18118,     0.18218,     0.18318,     0.18418,     0.18519,     0.18619,     0.18719,     0.18819,     0.18919,     0.19019,     0.19119,\n",
              "           0.19219,     0.19319,     0.19419,      0.1952,      0.1962,      0.1972,      0.1982,      0.1992,      0.2002,      0.2012,      0.2022,      0.2032,      0.2042,     0.20521,     0.20621,     0.20721,     0.20821,     0.20921,     0.21021,     0.21121,     0.21221,     0.21321,     0.21421,     0.21522,\n",
              "           0.21622,     0.21722,     0.21822,     0.21922,     0.22022,     0.22122,     0.22222,     0.22322,     0.22422,     0.22523,     0.22623,     0.22723,     0.22823,     0.22923,     0.23023,     0.23123,     0.23223,     0.23323,     0.23423,     0.23524,     0.23624,     0.23724,     0.23824,     0.23924,\n",
              "           0.24024,     0.24124,     0.24224,     0.24324,     0.24424,     0.24525,     0.24625,     0.24725,     0.24825,     0.24925,     0.25025,     0.25125,     0.25225,     0.25325,     0.25425,     0.25526,     0.25626,     0.25726,     0.25826,     0.25926,     0.26026,     0.26126,     0.26226,     0.26326,\n",
              "           0.26426,     0.26527,     0.26627,     0.26727,     0.26827,     0.26927,     0.27027,     0.27127,     0.27227,     0.27327,     0.27427,     0.27528,     0.27628,     0.27728,     0.27828,     0.27928,     0.28028,     0.28128,     0.28228,     0.28328,     0.28428,     0.28529,     0.28629,     0.28729,\n",
              "           0.28829,     0.28929,     0.29029,     0.29129,     0.29229,     0.29329,     0.29429,      0.2953,      0.2963,      0.2973,      0.2983,      0.2993,      0.3003,      0.3013,      0.3023,      0.3033,      0.3043,     0.30531,     0.30631,     0.30731,     0.30831,     0.30931,     0.31031,     0.31131,\n",
              "           0.31231,     0.31331,     0.31431,     0.31532,     0.31632,     0.31732,     0.31832,     0.31932,     0.32032,     0.32132,     0.32232,     0.32332,     0.32432,     0.32533,     0.32633,     0.32733,     0.32833,     0.32933,     0.33033,     0.33133,     0.33233,     0.33333,     0.33433,     0.33534,\n",
              "           0.33634,     0.33734,     0.33834,     0.33934,     0.34034,     0.34134,     0.34234,     0.34334,     0.34434,     0.34535,     0.34635,     0.34735,     0.34835,     0.34935,     0.35035,     0.35135,     0.35235,     0.35335,     0.35435,     0.35536,     0.35636,     0.35736,     0.35836,     0.35936,\n",
              "           0.36036,     0.36136,     0.36236,     0.36336,     0.36436,     0.36537,     0.36637,     0.36737,     0.36837,     0.36937,     0.37037,     0.37137,     0.37237,     0.37337,     0.37437,     0.37538,     0.37638,     0.37738,     0.37838,     0.37938,     0.38038,     0.38138,     0.38238,     0.38338,\n",
              "           0.38438,     0.38539,     0.38639,     0.38739,     0.38839,     0.38939,     0.39039,     0.39139,     0.39239,     0.39339,     0.39439,      0.3954,      0.3964,      0.3974,      0.3984,      0.3994,      0.4004,      0.4014,      0.4024,      0.4034,      0.4044,     0.40541,     0.40641,     0.40741,\n",
              "           0.40841,     0.40941,     0.41041,     0.41141,     0.41241,     0.41341,     0.41441,     0.41542,     0.41642,     0.41742,     0.41842,     0.41942,     0.42042,     0.42142,     0.42242,     0.42342,     0.42442,     0.42543,     0.42643,     0.42743,     0.42843,     0.42943,     0.43043,     0.43143,\n",
              "           0.43243,     0.43343,     0.43443,     0.43544,     0.43644,     0.43744,     0.43844,     0.43944,     0.44044,     0.44144,     0.44244,     0.44344,     0.44444,     0.44545,     0.44645,     0.44745,     0.44845,     0.44945,     0.45045,     0.45145,     0.45245,     0.45345,     0.45445,     0.45546,\n",
              "           0.45646,     0.45746,     0.45846,     0.45946,     0.46046,     0.46146,     0.46246,     0.46346,     0.46446,     0.46547,     0.46647,     0.46747,     0.46847,     0.46947,     0.47047,     0.47147,     0.47247,     0.47347,     0.47447,     0.47548,     0.47648,     0.47748,     0.47848,     0.47948,\n",
              "           0.48048,     0.48148,     0.48248,     0.48348,     0.48448,     0.48549,     0.48649,     0.48749,     0.48849,     0.48949,     0.49049,     0.49149,     0.49249,     0.49349,     0.49449,      0.4955,      0.4965,      0.4975,      0.4985,      0.4995,      0.5005,      0.5015,      0.5025,      0.5035,\n",
              "            0.5045,     0.50551,     0.50651,     0.50751,     0.50851,     0.50951,     0.51051,     0.51151,     0.51251,     0.51351,     0.51451,     0.51552,     0.51652,     0.51752,     0.51852,     0.51952,     0.52052,     0.52152,     0.52252,     0.52352,     0.52452,     0.52553,     0.52653,     0.52753,\n",
              "           0.52853,     0.52953,     0.53053,     0.53153,     0.53253,     0.53353,     0.53453,     0.53554,     0.53654,     0.53754,     0.53854,     0.53954,     0.54054,     0.54154,     0.54254,     0.54354,     0.54454,     0.54555,     0.54655,     0.54755,     0.54855,     0.54955,     0.55055,     0.55155,\n",
              "           0.55255,     0.55355,     0.55455,     0.55556,     0.55656,     0.55756,     0.55856,     0.55956,     0.56056,     0.56156,     0.56256,     0.56356,     0.56456,     0.56557,     0.56657,     0.56757,     0.56857,     0.56957,     0.57057,     0.57157,     0.57257,     0.57357,     0.57457,     0.57558,\n",
              "           0.57658,     0.57758,     0.57858,     0.57958,     0.58058,     0.58158,     0.58258,     0.58358,     0.58458,     0.58559,     0.58659,     0.58759,     0.58859,     0.58959,     0.59059,     0.59159,     0.59259,     0.59359,     0.59459,      0.5956,      0.5966,      0.5976,      0.5986,      0.5996,\n",
              "            0.6006,      0.6016,      0.6026,      0.6036,      0.6046,     0.60561,     0.60661,     0.60761,     0.60861,     0.60961,     0.61061,     0.61161,     0.61261,     0.61361,     0.61461,     0.61562,     0.61662,     0.61762,     0.61862,     0.61962,     0.62062,     0.62162,     0.62262,     0.62362,\n",
              "           0.62462,     0.62563,     0.62663,     0.62763,     0.62863,     0.62963,     0.63063,     0.63163,     0.63263,     0.63363,     0.63463,     0.63564,     0.63664,     0.63764,     0.63864,     0.63964,     0.64064,     0.64164,     0.64264,     0.64364,     0.64464,     0.64565,     0.64665,     0.64765,\n",
              "           0.64865,     0.64965,     0.65065,     0.65165,     0.65265,     0.65365,     0.65465,     0.65566,     0.65666,     0.65766,     0.65866,     0.65966,     0.66066,     0.66166,     0.66266,     0.66366,     0.66466,     0.66567,     0.66667,     0.66767,     0.66867,     0.66967,     0.67067,     0.67167,\n",
              "           0.67267,     0.67367,     0.67467,     0.67568,     0.67668,     0.67768,     0.67868,     0.67968,     0.68068,     0.68168,     0.68268,     0.68368,     0.68468,     0.68569,     0.68669,     0.68769,     0.68869,     0.68969,     0.69069,     0.69169,     0.69269,     0.69369,     0.69469,      0.6957,\n",
              "            0.6967,      0.6977,      0.6987,      0.6997,      0.7007,      0.7017,      0.7027,      0.7037,      0.7047,     0.70571,     0.70671,     0.70771,     0.70871,     0.70971,     0.71071,     0.71171,     0.71271,     0.71371,     0.71471,     0.71572,     0.71672,     0.71772,     0.71872,     0.71972,\n",
              "           0.72072,     0.72172,     0.72272,     0.72372,     0.72472,     0.72573,     0.72673,     0.72773,     0.72873,     0.72973,     0.73073,     0.73173,     0.73273,     0.73373,     0.73473,     0.73574,     0.73674,     0.73774,     0.73874,     0.73974,     0.74074,     0.74174,     0.74274,     0.74374,\n",
              "           0.74474,     0.74575,     0.74675,     0.74775,     0.74875,     0.74975,     0.75075,     0.75175,     0.75275,     0.75375,     0.75475,     0.75576,     0.75676,     0.75776,     0.75876,     0.75976,     0.76076,     0.76176,     0.76276,     0.76376,     0.76476,     0.76577,     0.76677,     0.76777,\n",
              "           0.76877,     0.76977,     0.77077,     0.77177,     0.77277,     0.77377,     0.77477,     0.77578,     0.77678,     0.77778,     0.77878,     0.77978,     0.78078,     0.78178,     0.78278,     0.78378,     0.78478,     0.78579,     0.78679,     0.78779,     0.78879,     0.78979,     0.79079,     0.79179,\n",
              "           0.79279,     0.79379,     0.79479,      0.7958,      0.7968,      0.7978,      0.7988,      0.7998,      0.8008,      0.8018,      0.8028,      0.8038,      0.8048,     0.80581,     0.80681,     0.80781,     0.80881,     0.80981,     0.81081,     0.81181,     0.81281,     0.81381,     0.81481,     0.81582,\n",
              "           0.81682,     0.81782,     0.81882,     0.81982,     0.82082,     0.82182,     0.82282,     0.82382,     0.82482,     0.82583,     0.82683,     0.82783,     0.82883,     0.82983,     0.83083,     0.83183,     0.83283,     0.83383,     0.83483,     0.83584,     0.83684,     0.83784,     0.83884,     0.83984,\n",
              "           0.84084,     0.84184,     0.84284,     0.84384,     0.84484,     0.84585,     0.84685,     0.84785,     0.84885,     0.84985,     0.85085,     0.85185,     0.85285,     0.85385,     0.85485,     0.85586,     0.85686,     0.85786,     0.85886,     0.85986,     0.86086,     0.86186,     0.86286,     0.86386,\n",
              "           0.86486,     0.86587,     0.86687,     0.86787,     0.86887,     0.86987,     0.87087,     0.87187,     0.87287,     0.87387,     0.87487,     0.87588,     0.87688,     0.87788,     0.87888,     0.87988,     0.88088,     0.88188,     0.88288,     0.88388,     0.88488,     0.88589,     0.88689,     0.88789,\n",
              "           0.88889,     0.88989,     0.89089,     0.89189,     0.89289,     0.89389,     0.89489,      0.8959,      0.8969,      0.8979,      0.8989,      0.8999,      0.9009,      0.9019,      0.9029,      0.9039,      0.9049,     0.90591,     0.90691,     0.90791,     0.90891,     0.90991,     0.91091,     0.91191,\n",
              "           0.91291,     0.91391,     0.91491,     0.91592,     0.91692,     0.91792,     0.91892,     0.91992,     0.92092,     0.92192,     0.92292,     0.92392,     0.92492,     0.92593,     0.92693,     0.92793,     0.92893,     0.92993,     0.93093,     0.93193,     0.93293,     0.93393,     0.93493,     0.93594,\n",
              "           0.93694,     0.93794,     0.93894,     0.93994,     0.94094,     0.94194,     0.94294,     0.94394,     0.94494,     0.94595,     0.94695,     0.94795,     0.94895,     0.94995,     0.95095,     0.95195,     0.95295,     0.95395,     0.95495,     0.95596,     0.95696,     0.95796,     0.95896,     0.95996,\n",
              "           0.96096,     0.96196,     0.96296,     0.96396,     0.96496,     0.96597,     0.96697,     0.96797,     0.96897,     0.96997,     0.97097,     0.97197,     0.97297,     0.97397,     0.97497,     0.97598,     0.97698,     0.97798,     0.97898,     0.97998,     0.98098,     0.98198,     0.98298,     0.98398,\n",
              "           0.98498,     0.98599,     0.98699,     0.98799,     0.98899,     0.98999,     0.99099,     0.99199,     0.99299,     0.99399,     0.99499,       0.996,       0.997,       0.998,       0.999,           1]), array([[          1,           1,           1, ...,  1.2359e-05,  6.1794e-06,           0],\n",
              "       [        0.5,         0.5,         0.5, ...,  2.4433e-05,  1.2216e-05,           0],\n",
              "       [          1,           1,           1, ...,  0.00010918,   5.459e-05,           0],\n",
              "       [          1,           1,           1, ...,  0.00010115,  5.0575e-05,           0],\n",
              "       [  0.0014822,   0.0014822,   0.0014822, ...,  2.9664e-06,  1.4832e-06,           0],\n",
              "       [          1,           1,           1, ...,  7.6359e-05,   3.818e-05,           0]]), 'Recall', 'Precision'], [array([          0,    0.001001,    0.002002,    0.003003,    0.004004,    0.005005,    0.006006,    0.007007,    0.008008,    0.009009,     0.01001,    0.011011,    0.012012,    0.013013,    0.014014,    0.015015,    0.016016,    0.017017,    0.018018,    0.019019,     0.02002,    0.021021,    0.022022,    0.023023,\n",
              "          0.024024,    0.025025,    0.026026,    0.027027,    0.028028,    0.029029,     0.03003,    0.031031,    0.032032,    0.033033,    0.034034,    0.035035,    0.036036,    0.037037,    0.038038,    0.039039,     0.04004,    0.041041,    0.042042,    0.043043,    0.044044,    0.045045,    0.046046,    0.047047,\n",
              "          0.048048,    0.049049,     0.05005,    0.051051,    0.052052,    0.053053,    0.054054,    0.055055,    0.056056,    0.057057,    0.058058,    0.059059,     0.06006,    0.061061,    0.062062,    0.063063,    0.064064,    0.065065,    0.066066,    0.067067,    0.068068,    0.069069,     0.07007,    0.071071,\n",
              "          0.072072,    0.073073,    0.074074,    0.075075,    0.076076,    0.077077,    0.078078,    0.079079,     0.08008,    0.081081,    0.082082,    0.083083,    0.084084,    0.085085,    0.086086,    0.087087,    0.088088,    0.089089,     0.09009,    0.091091,    0.092092,    0.093093,    0.094094,    0.095095,\n",
              "          0.096096,    0.097097,    0.098098,    0.099099,      0.1001,      0.1011,      0.1021,      0.1031,      0.1041,     0.10511,     0.10611,     0.10711,     0.10811,     0.10911,     0.11011,     0.11111,     0.11211,     0.11311,     0.11411,     0.11512,     0.11612,     0.11712,     0.11812,     0.11912,\n",
              "           0.12012,     0.12112,     0.12212,     0.12312,     0.12412,     0.12513,     0.12613,     0.12713,     0.12813,     0.12913,     0.13013,     0.13113,     0.13213,     0.13313,     0.13413,     0.13514,     0.13614,     0.13714,     0.13814,     0.13914,     0.14014,     0.14114,     0.14214,     0.14314,\n",
              "           0.14414,     0.14515,     0.14615,     0.14715,     0.14815,     0.14915,     0.15015,     0.15115,     0.15215,     0.15315,     0.15415,     0.15516,     0.15616,     0.15716,     0.15816,     0.15916,     0.16016,     0.16116,     0.16216,     0.16316,     0.16416,     0.16517,     0.16617,     0.16717,\n",
              "           0.16817,     0.16917,     0.17017,     0.17117,     0.17217,     0.17317,     0.17417,     0.17518,     0.17618,     0.17718,     0.17818,     0.17918,     0.18018,     0.18118,     0.18218,     0.18318,     0.18418,     0.18519,     0.18619,     0.18719,     0.18819,     0.18919,     0.19019,     0.19119,\n",
              "           0.19219,     0.19319,     0.19419,      0.1952,      0.1962,      0.1972,      0.1982,      0.1992,      0.2002,      0.2012,      0.2022,      0.2032,      0.2042,     0.20521,     0.20621,     0.20721,     0.20821,     0.20921,     0.21021,     0.21121,     0.21221,     0.21321,     0.21421,     0.21522,\n",
              "           0.21622,     0.21722,     0.21822,     0.21922,     0.22022,     0.22122,     0.22222,     0.22322,     0.22422,     0.22523,     0.22623,     0.22723,     0.22823,     0.22923,     0.23023,     0.23123,     0.23223,     0.23323,     0.23423,     0.23524,     0.23624,     0.23724,     0.23824,     0.23924,\n",
              "           0.24024,     0.24124,     0.24224,     0.24324,     0.24424,     0.24525,     0.24625,     0.24725,     0.24825,     0.24925,     0.25025,     0.25125,     0.25225,     0.25325,     0.25425,     0.25526,     0.25626,     0.25726,     0.25826,     0.25926,     0.26026,     0.26126,     0.26226,     0.26326,\n",
              "           0.26426,     0.26527,     0.26627,     0.26727,     0.26827,     0.26927,     0.27027,     0.27127,     0.27227,     0.27327,     0.27427,     0.27528,     0.27628,     0.27728,     0.27828,     0.27928,     0.28028,     0.28128,     0.28228,     0.28328,     0.28428,     0.28529,     0.28629,     0.28729,\n",
              "           0.28829,     0.28929,     0.29029,     0.29129,     0.29229,     0.29329,     0.29429,      0.2953,      0.2963,      0.2973,      0.2983,      0.2993,      0.3003,      0.3013,      0.3023,      0.3033,      0.3043,     0.30531,     0.30631,     0.30731,     0.30831,     0.30931,     0.31031,     0.31131,\n",
              "           0.31231,     0.31331,     0.31431,     0.31532,     0.31632,     0.31732,     0.31832,     0.31932,     0.32032,     0.32132,     0.32232,     0.32332,     0.32432,     0.32533,     0.32633,     0.32733,     0.32833,     0.32933,     0.33033,     0.33133,     0.33233,     0.33333,     0.33433,     0.33534,\n",
              "           0.33634,     0.33734,     0.33834,     0.33934,     0.34034,     0.34134,     0.34234,     0.34334,     0.34434,     0.34535,     0.34635,     0.34735,     0.34835,     0.34935,     0.35035,     0.35135,     0.35235,     0.35335,     0.35435,     0.35536,     0.35636,     0.35736,     0.35836,     0.35936,\n",
              "           0.36036,     0.36136,     0.36236,     0.36336,     0.36436,     0.36537,     0.36637,     0.36737,     0.36837,     0.36937,     0.37037,     0.37137,     0.37237,     0.37337,     0.37437,     0.37538,     0.37638,     0.37738,     0.37838,     0.37938,     0.38038,     0.38138,     0.38238,     0.38338,\n",
              "           0.38438,     0.38539,     0.38639,     0.38739,     0.38839,     0.38939,     0.39039,     0.39139,     0.39239,     0.39339,     0.39439,      0.3954,      0.3964,      0.3974,      0.3984,      0.3994,      0.4004,      0.4014,      0.4024,      0.4034,      0.4044,     0.40541,     0.40641,     0.40741,\n",
              "           0.40841,     0.40941,     0.41041,     0.41141,     0.41241,     0.41341,     0.41441,     0.41542,     0.41642,     0.41742,     0.41842,     0.41942,     0.42042,     0.42142,     0.42242,     0.42342,     0.42442,     0.42543,     0.42643,     0.42743,     0.42843,     0.42943,     0.43043,     0.43143,\n",
              "           0.43243,     0.43343,     0.43443,     0.43544,     0.43644,     0.43744,     0.43844,     0.43944,     0.44044,     0.44144,     0.44244,     0.44344,     0.44444,     0.44545,     0.44645,     0.44745,     0.44845,     0.44945,     0.45045,     0.45145,     0.45245,     0.45345,     0.45445,     0.45546,\n",
              "           0.45646,     0.45746,     0.45846,     0.45946,     0.46046,     0.46146,     0.46246,     0.46346,     0.46446,     0.46547,     0.46647,     0.46747,     0.46847,     0.46947,     0.47047,     0.47147,     0.47247,     0.47347,     0.47447,     0.47548,     0.47648,     0.47748,     0.47848,     0.47948,\n",
              "           0.48048,     0.48148,     0.48248,     0.48348,     0.48448,     0.48549,     0.48649,     0.48749,     0.48849,     0.48949,     0.49049,     0.49149,     0.49249,     0.49349,     0.49449,      0.4955,      0.4965,      0.4975,      0.4985,      0.4995,      0.5005,      0.5015,      0.5025,      0.5035,\n",
              "            0.5045,     0.50551,     0.50651,     0.50751,     0.50851,     0.50951,     0.51051,     0.51151,     0.51251,     0.51351,     0.51451,     0.51552,     0.51652,     0.51752,     0.51852,     0.51952,     0.52052,     0.52152,     0.52252,     0.52352,     0.52452,     0.52553,     0.52653,     0.52753,\n",
              "           0.52853,     0.52953,     0.53053,     0.53153,     0.53253,     0.53353,     0.53453,     0.53554,     0.53654,     0.53754,     0.53854,     0.53954,     0.54054,     0.54154,     0.54254,     0.54354,     0.54454,     0.54555,     0.54655,     0.54755,     0.54855,     0.54955,     0.55055,     0.55155,\n",
              "           0.55255,     0.55355,     0.55455,     0.55556,     0.55656,     0.55756,     0.55856,     0.55956,     0.56056,     0.56156,     0.56256,     0.56356,     0.56456,     0.56557,     0.56657,     0.56757,     0.56857,     0.56957,     0.57057,     0.57157,     0.57257,     0.57357,     0.57457,     0.57558,\n",
              "           0.57658,     0.57758,     0.57858,     0.57958,     0.58058,     0.58158,     0.58258,     0.58358,     0.58458,     0.58559,     0.58659,     0.58759,     0.58859,     0.58959,     0.59059,     0.59159,     0.59259,     0.59359,     0.59459,      0.5956,      0.5966,      0.5976,      0.5986,      0.5996,\n",
              "            0.6006,      0.6016,      0.6026,      0.6036,      0.6046,     0.60561,     0.60661,     0.60761,     0.60861,     0.60961,     0.61061,     0.61161,     0.61261,     0.61361,     0.61461,     0.61562,     0.61662,     0.61762,     0.61862,     0.61962,     0.62062,     0.62162,     0.62262,     0.62362,\n",
              "           0.62462,     0.62563,     0.62663,     0.62763,     0.62863,     0.62963,     0.63063,     0.63163,     0.63263,     0.63363,     0.63463,     0.63564,     0.63664,     0.63764,     0.63864,     0.63964,     0.64064,     0.64164,     0.64264,     0.64364,     0.64464,     0.64565,     0.64665,     0.64765,\n",
              "           0.64865,     0.64965,     0.65065,     0.65165,     0.65265,     0.65365,     0.65465,     0.65566,     0.65666,     0.65766,     0.65866,     0.65966,     0.66066,     0.66166,     0.66266,     0.66366,     0.66466,     0.66567,     0.66667,     0.66767,     0.66867,     0.66967,     0.67067,     0.67167,\n",
              "           0.67267,     0.67367,     0.67467,     0.67568,     0.67668,     0.67768,     0.67868,     0.67968,     0.68068,     0.68168,     0.68268,     0.68368,     0.68468,     0.68569,     0.68669,     0.68769,     0.68869,     0.68969,     0.69069,     0.69169,     0.69269,     0.69369,     0.69469,      0.6957,\n",
              "            0.6967,      0.6977,      0.6987,      0.6997,      0.7007,      0.7017,      0.7027,      0.7037,      0.7047,     0.70571,     0.70671,     0.70771,     0.70871,     0.70971,     0.71071,     0.71171,     0.71271,     0.71371,     0.71471,     0.71572,     0.71672,     0.71772,     0.71872,     0.71972,\n",
              "           0.72072,     0.72172,     0.72272,     0.72372,     0.72472,     0.72573,     0.72673,     0.72773,     0.72873,     0.72973,     0.73073,     0.73173,     0.73273,     0.73373,     0.73473,     0.73574,     0.73674,     0.73774,     0.73874,     0.73974,     0.74074,     0.74174,     0.74274,     0.74374,\n",
              "           0.74474,     0.74575,     0.74675,     0.74775,     0.74875,     0.74975,     0.75075,     0.75175,     0.75275,     0.75375,     0.75475,     0.75576,     0.75676,     0.75776,     0.75876,     0.75976,     0.76076,     0.76176,     0.76276,     0.76376,     0.76476,     0.76577,     0.76677,     0.76777,\n",
              "           0.76877,     0.76977,     0.77077,     0.77177,     0.77277,     0.77377,     0.77477,     0.77578,     0.77678,     0.77778,     0.77878,     0.77978,     0.78078,     0.78178,     0.78278,     0.78378,     0.78478,     0.78579,     0.78679,     0.78779,     0.78879,     0.78979,     0.79079,     0.79179,\n",
              "           0.79279,     0.79379,     0.79479,      0.7958,      0.7968,      0.7978,      0.7988,      0.7998,      0.8008,      0.8018,      0.8028,      0.8038,      0.8048,     0.80581,     0.80681,     0.80781,     0.80881,     0.80981,     0.81081,     0.81181,     0.81281,     0.81381,     0.81481,     0.81582,\n",
              "           0.81682,     0.81782,     0.81882,     0.81982,     0.82082,     0.82182,     0.82282,     0.82382,     0.82482,     0.82583,     0.82683,     0.82783,     0.82883,     0.82983,     0.83083,     0.83183,     0.83283,     0.83383,     0.83483,     0.83584,     0.83684,     0.83784,     0.83884,     0.83984,\n",
              "           0.84084,     0.84184,     0.84284,     0.84384,     0.84484,     0.84585,     0.84685,     0.84785,     0.84885,     0.84985,     0.85085,     0.85185,     0.85285,     0.85385,     0.85485,     0.85586,     0.85686,     0.85786,     0.85886,     0.85986,     0.86086,     0.86186,     0.86286,     0.86386,\n",
              "           0.86486,     0.86587,     0.86687,     0.86787,     0.86887,     0.86987,     0.87087,     0.87187,     0.87287,     0.87387,     0.87487,     0.87588,     0.87688,     0.87788,     0.87888,     0.87988,     0.88088,     0.88188,     0.88288,     0.88388,     0.88488,     0.88589,     0.88689,     0.88789,\n",
              "           0.88889,     0.88989,     0.89089,     0.89189,     0.89289,     0.89389,     0.89489,      0.8959,      0.8969,      0.8979,      0.8989,      0.8999,      0.9009,      0.9019,      0.9029,      0.9039,      0.9049,     0.90591,     0.90691,     0.90791,     0.90891,     0.90991,     0.91091,     0.91191,\n",
              "           0.91291,     0.91391,     0.91491,     0.91592,     0.91692,     0.91792,     0.91892,     0.91992,     0.92092,     0.92192,     0.92292,     0.92392,     0.92492,     0.92593,     0.92693,     0.92793,     0.92893,     0.92993,     0.93093,     0.93193,     0.93293,     0.93393,     0.93493,     0.93594,\n",
              "           0.93694,     0.93794,     0.93894,     0.93994,     0.94094,     0.94194,     0.94294,     0.94394,     0.94494,     0.94595,     0.94695,     0.94795,     0.94895,     0.94995,     0.95095,     0.95195,     0.95295,     0.95395,     0.95495,     0.95596,     0.95696,     0.95796,     0.95896,     0.95996,\n",
              "           0.96096,     0.96196,     0.96296,     0.96396,     0.96496,     0.96597,     0.96697,     0.96797,     0.96897,     0.96997,     0.97097,     0.97197,     0.97297,     0.97397,     0.97497,     0.97598,     0.97698,     0.97798,     0.97898,     0.97998,     0.98098,     0.98198,     0.98298,     0.98398,\n",
              "           0.98498,     0.98599,     0.98699,     0.98799,     0.98899,     0.98999,     0.99099,     0.99199,     0.99299,     0.99399,     0.99499,       0.996,       0.997,       0.998,       0.999,           1]), array([[  0.0078159,   0.0078159,    0.013678, ...,           0,           0,           0],\n",
              "       [   0.013017,    0.013017,    0.020787, ...,           0,           0,           0],\n",
              "       [   0.036009,    0.036009,    0.040158, ...,           0,           0,           0],\n",
              "       [   0.045301,    0.045301,    0.061318, ...,           0,           0,           0],\n",
              "       [  0.0024979,   0.0024979,   0.0019708, ...,           0,           0,           0],\n",
              "       [   0.025733,    0.025733,    0.031759, ...,           0,           0,           0]]), 'Confidence', 'F1'], [array([          0,    0.001001,    0.002002,    0.003003,    0.004004,    0.005005,    0.006006,    0.007007,    0.008008,    0.009009,     0.01001,    0.011011,    0.012012,    0.013013,    0.014014,    0.015015,    0.016016,    0.017017,    0.018018,    0.019019,     0.02002,    0.021021,    0.022022,    0.023023,\n",
              "          0.024024,    0.025025,    0.026026,    0.027027,    0.028028,    0.029029,     0.03003,    0.031031,    0.032032,    0.033033,    0.034034,    0.035035,    0.036036,    0.037037,    0.038038,    0.039039,     0.04004,    0.041041,    0.042042,    0.043043,    0.044044,    0.045045,    0.046046,    0.047047,\n",
              "          0.048048,    0.049049,     0.05005,    0.051051,    0.052052,    0.053053,    0.054054,    0.055055,    0.056056,    0.057057,    0.058058,    0.059059,     0.06006,    0.061061,    0.062062,    0.063063,    0.064064,    0.065065,    0.066066,    0.067067,    0.068068,    0.069069,     0.07007,    0.071071,\n",
              "          0.072072,    0.073073,    0.074074,    0.075075,    0.076076,    0.077077,    0.078078,    0.079079,     0.08008,    0.081081,    0.082082,    0.083083,    0.084084,    0.085085,    0.086086,    0.087087,    0.088088,    0.089089,     0.09009,    0.091091,    0.092092,    0.093093,    0.094094,    0.095095,\n",
              "          0.096096,    0.097097,    0.098098,    0.099099,      0.1001,      0.1011,      0.1021,      0.1031,      0.1041,     0.10511,     0.10611,     0.10711,     0.10811,     0.10911,     0.11011,     0.11111,     0.11211,     0.11311,     0.11411,     0.11512,     0.11612,     0.11712,     0.11812,     0.11912,\n",
              "           0.12012,     0.12112,     0.12212,     0.12312,     0.12412,     0.12513,     0.12613,     0.12713,     0.12813,     0.12913,     0.13013,     0.13113,     0.13213,     0.13313,     0.13413,     0.13514,     0.13614,     0.13714,     0.13814,     0.13914,     0.14014,     0.14114,     0.14214,     0.14314,\n",
              "           0.14414,     0.14515,     0.14615,     0.14715,     0.14815,     0.14915,     0.15015,     0.15115,     0.15215,     0.15315,     0.15415,     0.15516,     0.15616,     0.15716,     0.15816,     0.15916,     0.16016,     0.16116,     0.16216,     0.16316,     0.16416,     0.16517,     0.16617,     0.16717,\n",
              "           0.16817,     0.16917,     0.17017,     0.17117,     0.17217,     0.17317,     0.17417,     0.17518,     0.17618,     0.17718,     0.17818,     0.17918,     0.18018,     0.18118,     0.18218,     0.18318,     0.18418,     0.18519,     0.18619,     0.18719,     0.18819,     0.18919,     0.19019,     0.19119,\n",
              "           0.19219,     0.19319,     0.19419,      0.1952,      0.1962,      0.1972,      0.1982,      0.1992,      0.2002,      0.2012,      0.2022,      0.2032,      0.2042,     0.20521,     0.20621,     0.20721,     0.20821,     0.20921,     0.21021,     0.21121,     0.21221,     0.21321,     0.21421,     0.21522,\n",
              "           0.21622,     0.21722,     0.21822,     0.21922,     0.22022,     0.22122,     0.22222,     0.22322,     0.22422,     0.22523,     0.22623,     0.22723,     0.22823,     0.22923,     0.23023,     0.23123,     0.23223,     0.23323,     0.23423,     0.23524,     0.23624,     0.23724,     0.23824,     0.23924,\n",
              "           0.24024,     0.24124,     0.24224,     0.24324,     0.24424,     0.24525,     0.24625,     0.24725,     0.24825,     0.24925,     0.25025,     0.25125,     0.25225,     0.25325,     0.25425,     0.25526,     0.25626,     0.25726,     0.25826,     0.25926,     0.26026,     0.26126,     0.26226,     0.26326,\n",
              "           0.26426,     0.26527,     0.26627,     0.26727,     0.26827,     0.26927,     0.27027,     0.27127,     0.27227,     0.27327,     0.27427,     0.27528,     0.27628,     0.27728,     0.27828,     0.27928,     0.28028,     0.28128,     0.28228,     0.28328,     0.28428,     0.28529,     0.28629,     0.28729,\n",
              "           0.28829,     0.28929,     0.29029,     0.29129,     0.29229,     0.29329,     0.29429,      0.2953,      0.2963,      0.2973,      0.2983,      0.2993,      0.3003,      0.3013,      0.3023,      0.3033,      0.3043,     0.30531,     0.30631,     0.30731,     0.30831,     0.30931,     0.31031,     0.31131,\n",
              "           0.31231,     0.31331,     0.31431,     0.31532,     0.31632,     0.31732,     0.31832,     0.31932,     0.32032,     0.32132,     0.32232,     0.32332,     0.32432,     0.32533,     0.32633,     0.32733,     0.32833,     0.32933,     0.33033,     0.33133,     0.33233,     0.33333,     0.33433,     0.33534,\n",
              "           0.33634,     0.33734,     0.33834,     0.33934,     0.34034,     0.34134,     0.34234,     0.34334,     0.34434,     0.34535,     0.34635,     0.34735,     0.34835,     0.34935,     0.35035,     0.35135,     0.35235,     0.35335,     0.35435,     0.35536,     0.35636,     0.35736,     0.35836,     0.35936,\n",
              "           0.36036,     0.36136,     0.36236,     0.36336,     0.36436,     0.36537,     0.36637,     0.36737,     0.36837,     0.36937,     0.37037,     0.37137,     0.37237,     0.37337,     0.37437,     0.37538,     0.37638,     0.37738,     0.37838,     0.37938,     0.38038,     0.38138,     0.38238,     0.38338,\n",
              "           0.38438,     0.38539,     0.38639,     0.38739,     0.38839,     0.38939,     0.39039,     0.39139,     0.39239,     0.39339,     0.39439,      0.3954,      0.3964,      0.3974,      0.3984,      0.3994,      0.4004,      0.4014,      0.4024,      0.4034,      0.4044,     0.40541,     0.40641,     0.40741,\n",
              "           0.40841,     0.40941,     0.41041,     0.41141,     0.41241,     0.41341,     0.41441,     0.41542,     0.41642,     0.41742,     0.41842,     0.41942,     0.42042,     0.42142,     0.42242,     0.42342,     0.42442,     0.42543,     0.42643,     0.42743,     0.42843,     0.42943,     0.43043,     0.43143,\n",
              "           0.43243,     0.43343,     0.43443,     0.43544,     0.43644,     0.43744,     0.43844,     0.43944,     0.44044,     0.44144,     0.44244,     0.44344,     0.44444,     0.44545,     0.44645,     0.44745,     0.44845,     0.44945,     0.45045,     0.45145,     0.45245,     0.45345,     0.45445,     0.45546,\n",
              "           0.45646,     0.45746,     0.45846,     0.45946,     0.46046,     0.46146,     0.46246,     0.46346,     0.46446,     0.46547,     0.46647,     0.46747,     0.46847,     0.46947,     0.47047,     0.47147,     0.47247,     0.47347,     0.47447,     0.47548,     0.47648,     0.47748,     0.47848,     0.47948,\n",
              "           0.48048,     0.48148,     0.48248,     0.48348,     0.48448,     0.48549,     0.48649,     0.48749,     0.48849,     0.48949,     0.49049,     0.49149,     0.49249,     0.49349,     0.49449,      0.4955,      0.4965,      0.4975,      0.4985,      0.4995,      0.5005,      0.5015,      0.5025,      0.5035,\n",
              "            0.5045,     0.50551,     0.50651,     0.50751,     0.50851,     0.50951,     0.51051,     0.51151,     0.51251,     0.51351,     0.51451,     0.51552,     0.51652,     0.51752,     0.51852,     0.51952,     0.52052,     0.52152,     0.52252,     0.52352,     0.52452,     0.52553,     0.52653,     0.52753,\n",
              "           0.52853,     0.52953,     0.53053,     0.53153,     0.53253,     0.53353,     0.53453,     0.53554,     0.53654,     0.53754,     0.53854,     0.53954,     0.54054,     0.54154,     0.54254,     0.54354,     0.54454,     0.54555,     0.54655,     0.54755,     0.54855,     0.54955,     0.55055,     0.55155,\n",
              "           0.55255,     0.55355,     0.55455,     0.55556,     0.55656,     0.55756,     0.55856,     0.55956,     0.56056,     0.56156,     0.56256,     0.56356,     0.56456,     0.56557,     0.56657,     0.56757,     0.56857,     0.56957,     0.57057,     0.57157,     0.57257,     0.57357,     0.57457,     0.57558,\n",
              "           0.57658,     0.57758,     0.57858,     0.57958,     0.58058,     0.58158,     0.58258,     0.58358,     0.58458,     0.58559,     0.58659,     0.58759,     0.58859,     0.58959,     0.59059,     0.59159,     0.59259,     0.59359,     0.59459,      0.5956,      0.5966,      0.5976,      0.5986,      0.5996,\n",
              "            0.6006,      0.6016,      0.6026,      0.6036,      0.6046,     0.60561,     0.60661,     0.60761,     0.60861,     0.60961,     0.61061,     0.61161,     0.61261,     0.61361,     0.61461,     0.61562,     0.61662,     0.61762,     0.61862,     0.61962,     0.62062,     0.62162,     0.62262,     0.62362,\n",
              "           0.62462,     0.62563,     0.62663,     0.62763,     0.62863,     0.62963,     0.63063,     0.63163,     0.63263,     0.63363,     0.63463,     0.63564,     0.63664,     0.63764,     0.63864,     0.63964,     0.64064,     0.64164,     0.64264,     0.64364,     0.64464,     0.64565,     0.64665,     0.64765,\n",
              "           0.64865,     0.64965,     0.65065,     0.65165,     0.65265,     0.65365,     0.65465,     0.65566,     0.65666,     0.65766,     0.65866,     0.65966,     0.66066,     0.66166,     0.66266,     0.66366,     0.66466,     0.66567,     0.66667,     0.66767,     0.66867,     0.66967,     0.67067,     0.67167,\n",
              "           0.67267,     0.67367,     0.67467,     0.67568,     0.67668,     0.67768,     0.67868,     0.67968,     0.68068,     0.68168,     0.68268,     0.68368,     0.68468,     0.68569,     0.68669,     0.68769,     0.68869,     0.68969,     0.69069,     0.69169,     0.69269,     0.69369,     0.69469,      0.6957,\n",
              "            0.6967,      0.6977,      0.6987,      0.6997,      0.7007,      0.7017,      0.7027,      0.7037,      0.7047,     0.70571,     0.70671,     0.70771,     0.70871,     0.70971,     0.71071,     0.71171,     0.71271,     0.71371,     0.71471,     0.71572,     0.71672,     0.71772,     0.71872,     0.71972,\n",
              "           0.72072,     0.72172,     0.72272,     0.72372,     0.72472,     0.72573,     0.72673,     0.72773,     0.72873,     0.72973,     0.73073,     0.73173,     0.73273,     0.73373,     0.73473,     0.73574,     0.73674,     0.73774,     0.73874,     0.73974,     0.74074,     0.74174,     0.74274,     0.74374,\n",
              "           0.74474,     0.74575,     0.74675,     0.74775,     0.74875,     0.74975,     0.75075,     0.75175,     0.75275,     0.75375,     0.75475,     0.75576,     0.75676,     0.75776,     0.75876,     0.75976,     0.76076,     0.76176,     0.76276,     0.76376,     0.76476,     0.76577,     0.76677,     0.76777,\n",
              "           0.76877,     0.76977,     0.77077,     0.77177,     0.77277,     0.77377,     0.77477,     0.77578,     0.77678,     0.77778,     0.77878,     0.77978,     0.78078,     0.78178,     0.78278,     0.78378,     0.78478,     0.78579,     0.78679,     0.78779,     0.78879,     0.78979,     0.79079,     0.79179,\n",
              "           0.79279,     0.79379,     0.79479,      0.7958,      0.7968,      0.7978,      0.7988,      0.7998,      0.8008,      0.8018,      0.8028,      0.8038,      0.8048,     0.80581,     0.80681,     0.80781,     0.80881,     0.80981,     0.81081,     0.81181,     0.81281,     0.81381,     0.81481,     0.81582,\n",
              "           0.81682,     0.81782,     0.81882,     0.81982,     0.82082,     0.82182,     0.82282,     0.82382,     0.82482,     0.82583,     0.82683,     0.82783,     0.82883,     0.82983,     0.83083,     0.83183,     0.83283,     0.83383,     0.83483,     0.83584,     0.83684,     0.83784,     0.83884,     0.83984,\n",
              "           0.84084,     0.84184,     0.84284,     0.84384,     0.84484,     0.84585,     0.84685,     0.84785,     0.84885,     0.84985,     0.85085,     0.85185,     0.85285,     0.85385,     0.85485,     0.85586,     0.85686,     0.85786,     0.85886,     0.85986,     0.86086,     0.86186,     0.86286,     0.86386,\n",
              "           0.86486,     0.86587,     0.86687,     0.86787,     0.86887,     0.86987,     0.87087,     0.87187,     0.87287,     0.87387,     0.87487,     0.87588,     0.87688,     0.87788,     0.87888,     0.87988,     0.88088,     0.88188,     0.88288,     0.88388,     0.88488,     0.88589,     0.88689,     0.88789,\n",
              "           0.88889,     0.88989,     0.89089,     0.89189,     0.89289,     0.89389,     0.89489,      0.8959,      0.8969,      0.8979,      0.8989,      0.8999,      0.9009,      0.9019,      0.9029,      0.9039,      0.9049,     0.90591,     0.90691,     0.90791,     0.90891,     0.90991,     0.91091,     0.91191,\n",
              "           0.91291,     0.91391,     0.91491,     0.91592,     0.91692,     0.91792,     0.91892,     0.91992,     0.92092,     0.92192,     0.92292,     0.92392,     0.92492,     0.92593,     0.92693,     0.92793,     0.92893,     0.92993,     0.93093,     0.93193,     0.93293,     0.93393,     0.93493,     0.93594,\n",
              "           0.93694,     0.93794,     0.93894,     0.93994,     0.94094,     0.94194,     0.94294,     0.94394,     0.94494,     0.94595,     0.94695,     0.94795,     0.94895,     0.94995,     0.95095,     0.95195,     0.95295,     0.95395,     0.95495,     0.95596,     0.95696,     0.95796,     0.95896,     0.95996,\n",
              "           0.96096,     0.96196,     0.96296,     0.96396,     0.96496,     0.96597,     0.96697,     0.96797,     0.96897,     0.96997,     0.97097,     0.97197,     0.97297,     0.97397,     0.97497,     0.97598,     0.97698,     0.97798,     0.97898,     0.97998,     0.98098,     0.98198,     0.98298,     0.98398,\n",
              "           0.98498,     0.98599,     0.98699,     0.98799,     0.98899,     0.98999,     0.99099,     0.99199,     0.99299,     0.99399,     0.99499,       0.996,       0.997,       0.998,       0.999,           1]), array([[  0.0039508,   0.0039508,   0.0069716, ...,           1,           1,           1],\n",
              "       [  0.0066022,   0.0066022,    0.010639, ...,           1,           1,           1],\n",
              "       [   0.018509,    0.018509,    0.020727, ...,           1,           1,           1],\n",
              "       [   0.023658,    0.023658,    0.032629, ...,           1,           1,           1],\n",
              "       [  0.0012594,   0.0012594,   0.0010052, ...,           1,           1,           1],\n",
              "       [   0.013124,    0.013124,     0.01628, ...,           1,           1,           1]]), 'Confidence', 'Precision'], [array([          0,    0.001001,    0.002002,    0.003003,    0.004004,    0.005005,    0.006006,    0.007007,    0.008008,    0.009009,     0.01001,    0.011011,    0.012012,    0.013013,    0.014014,    0.015015,    0.016016,    0.017017,    0.018018,    0.019019,     0.02002,    0.021021,    0.022022,    0.023023,\n",
              "          0.024024,    0.025025,    0.026026,    0.027027,    0.028028,    0.029029,     0.03003,    0.031031,    0.032032,    0.033033,    0.034034,    0.035035,    0.036036,    0.037037,    0.038038,    0.039039,     0.04004,    0.041041,    0.042042,    0.043043,    0.044044,    0.045045,    0.046046,    0.047047,\n",
              "          0.048048,    0.049049,     0.05005,    0.051051,    0.052052,    0.053053,    0.054054,    0.055055,    0.056056,    0.057057,    0.058058,    0.059059,     0.06006,    0.061061,    0.062062,    0.063063,    0.064064,    0.065065,    0.066066,    0.067067,    0.068068,    0.069069,     0.07007,    0.071071,\n",
              "          0.072072,    0.073073,    0.074074,    0.075075,    0.076076,    0.077077,    0.078078,    0.079079,     0.08008,    0.081081,    0.082082,    0.083083,    0.084084,    0.085085,    0.086086,    0.087087,    0.088088,    0.089089,     0.09009,    0.091091,    0.092092,    0.093093,    0.094094,    0.095095,\n",
              "          0.096096,    0.097097,    0.098098,    0.099099,      0.1001,      0.1011,      0.1021,      0.1031,      0.1041,     0.10511,     0.10611,     0.10711,     0.10811,     0.10911,     0.11011,     0.11111,     0.11211,     0.11311,     0.11411,     0.11512,     0.11612,     0.11712,     0.11812,     0.11912,\n",
              "           0.12012,     0.12112,     0.12212,     0.12312,     0.12412,     0.12513,     0.12613,     0.12713,     0.12813,     0.12913,     0.13013,     0.13113,     0.13213,     0.13313,     0.13413,     0.13514,     0.13614,     0.13714,     0.13814,     0.13914,     0.14014,     0.14114,     0.14214,     0.14314,\n",
              "           0.14414,     0.14515,     0.14615,     0.14715,     0.14815,     0.14915,     0.15015,     0.15115,     0.15215,     0.15315,     0.15415,     0.15516,     0.15616,     0.15716,     0.15816,     0.15916,     0.16016,     0.16116,     0.16216,     0.16316,     0.16416,     0.16517,     0.16617,     0.16717,\n",
              "           0.16817,     0.16917,     0.17017,     0.17117,     0.17217,     0.17317,     0.17417,     0.17518,     0.17618,     0.17718,     0.17818,     0.17918,     0.18018,     0.18118,     0.18218,     0.18318,     0.18418,     0.18519,     0.18619,     0.18719,     0.18819,     0.18919,     0.19019,     0.19119,\n",
              "           0.19219,     0.19319,     0.19419,      0.1952,      0.1962,      0.1972,      0.1982,      0.1992,      0.2002,      0.2012,      0.2022,      0.2032,      0.2042,     0.20521,     0.20621,     0.20721,     0.20821,     0.20921,     0.21021,     0.21121,     0.21221,     0.21321,     0.21421,     0.21522,\n",
              "           0.21622,     0.21722,     0.21822,     0.21922,     0.22022,     0.22122,     0.22222,     0.22322,     0.22422,     0.22523,     0.22623,     0.22723,     0.22823,     0.22923,     0.23023,     0.23123,     0.23223,     0.23323,     0.23423,     0.23524,     0.23624,     0.23724,     0.23824,     0.23924,\n",
              "           0.24024,     0.24124,     0.24224,     0.24324,     0.24424,     0.24525,     0.24625,     0.24725,     0.24825,     0.24925,     0.25025,     0.25125,     0.25225,     0.25325,     0.25425,     0.25526,     0.25626,     0.25726,     0.25826,     0.25926,     0.26026,     0.26126,     0.26226,     0.26326,\n",
              "           0.26426,     0.26527,     0.26627,     0.26727,     0.26827,     0.26927,     0.27027,     0.27127,     0.27227,     0.27327,     0.27427,     0.27528,     0.27628,     0.27728,     0.27828,     0.27928,     0.28028,     0.28128,     0.28228,     0.28328,     0.28428,     0.28529,     0.28629,     0.28729,\n",
              "           0.28829,     0.28929,     0.29029,     0.29129,     0.29229,     0.29329,     0.29429,      0.2953,      0.2963,      0.2973,      0.2983,      0.2993,      0.3003,      0.3013,      0.3023,      0.3033,      0.3043,     0.30531,     0.30631,     0.30731,     0.30831,     0.30931,     0.31031,     0.31131,\n",
              "           0.31231,     0.31331,     0.31431,     0.31532,     0.31632,     0.31732,     0.31832,     0.31932,     0.32032,     0.32132,     0.32232,     0.32332,     0.32432,     0.32533,     0.32633,     0.32733,     0.32833,     0.32933,     0.33033,     0.33133,     0.33233,     0.33333,     0.33433,     0.33534,\n",
              "           0.33634,     0.33734,     0.33834,     0.33934,     0.34034,     0.34134,     0.34234,     0.34334,     0.34434,     0.34535,     0.34635,     0.34735,     0.34835,     0.34935,     0.35035,     0.35135,     0.35235,     0.35335,     0.35435,     0.35536,     0.35636,     0.35736,     0.35836,     0.35936,\n",
              "           0.36036,     0.36136,     0.36236,     0.36336,     0.36436,     0.36537,     0.36637,     0.36737,     0.36837,     0.36937,     0.37037,     0.37137,     0.37237,     0.37337,     0.37437,     0.37538,     0.37638,     0.37738,     0.37838,     0.37938,     0.38038,     0.38138,     0.38238,     0.38338,\n",
              "           0.38438,     0.38539,     0.38639,     0.38739,     0.38839,     0.38939,     0.39039,     0.39139,     0.39239,     0.39339,     0.39439,      0.3954,      0.3964,      0.3974,      0.3984,      0.3994,      0.4004,      0.4014,      0.4024,      0.4034,      0.4044,     0.40541,     0.40641,     0.40741,\n",
              "           0.40841,     0.40941,     0.41041,     0.41141,     0.41241,     0.41341,     0.41441,     0.41542,     0.41642,     0.41742,     0.41842,     0.41942,     0.42042,     0.42142,     0.42242,     0.42342,     0.42442,     0.42543,     0.42643,     0.42743,     0.42843,     0.42943,     0.43043,     0.43143,\n",
              "           0.43243,     0.43343,     0.43443,     0.43544,     0.43644,     0.43744,     0.43844,     0.43944,     0.44044,     0.44144,     0.44244,     0.44344,     0.44444,     0.44545,     0.44645,     0.44745,     0.44845,     0.44945,     0.45045,     0.45145,     0.45245,     0.45345,     0.45445,     0.45546,\n",
              "           0.45646,     0.45746,     0.45846,     0.45946,     0.46046,     0.46146,     0.46246,     0.46346,     0.46446,     0.46547,     0.46647,     0.46747,     0.46847,     0.46947,     0.47047,     0.47147,     0.47247,     0.47347,     0.47447,     0.47548,     0.47648,     0.47748,     0.47848,     0.47948,\n",
              "           0.48048,     0.48148,     0.48248,     0.48348,     0.48448,     0.48549,     0.48649,     0.48749,     0.48849,     0.48949,     0.49049,     0.49149,     0.49249,     0.49349,     0.49449,      0.4955,      0.4965,      0.4975,      0.4985,      0.4995,      0.5005,      0.5015,      0.5025,      0.5035,\n",
              "            0.5045,     0.50551,     0.50651,     0.50751,     0.50851,     0.50951,     0.51051,     0.51151,     0.51251,     0.51351,     0.51451,     0.51552,     0.51652,     0.51752,     0.51852,     0.51952,     0.52052,     0.52152,     0.52252,     0.52352,     0.52452,     0.52553,     0.52653,     0.52753,\n",
              "           0.52853,     0.52953,     0.53053,     0.53153,     0.53253,     0.53353,     0.53453,     0.53554,     0.53654,     0.53754,     0.53854,     0.53954,     0.54054,     0.54154,     0.54254,     0.54354,     0.54454,     0.54555,     0.54655,     0.54755,     0.54855,     0.54955,     0.55055,     0.55155,\n",
              "           0.55255,     0.55355,     0.55455,     0.55556,     0.55656,     0.55756,     0.55856,     0.55956,     0.56056,     0.56156,     0.56256,     0.56356,     0.56456,     0.56557,     0.56657,     0.56757,     0.56857,     0.56957,     0.57057,     0.57157,     0.57257,     0.57357,     0.57457,     0.57558,\n",
              "           0.57658,     0.57758,     0.57858,     0.57958,     0.58058,     0.58158,     0.58258,     0.58358,     0.58458,     0.58559,     0.58659,     0.58759,     0.58859,     0.58959,     0.59059,     0.59159,     0.59259,     0.59359,     0.59459,      0.5956,      0.5966,      0.5976,      0.5986,      0.5996,\n",
              "            0.6006,      0.6016,      0.6026,      0.6036,      0.6046,     0.60561,     0.60661,     0.60761,     0.60861,     0.60961,     0.61061,     0.61161,     0.61261,     0.61361,     0.61461,     0.61562,     0.61662,     0.61762,     0.61862,     0.61962,     0.62062,     0.62162,     0.62262,     0.62362,\n",
              "           0.62462,     0.62563,     0.62663,     0.62763,     0.62863,     0.62963,     0.63063,     0.63163,     0.63263,     0.63363,     0.63463,     0.63564,     0.63664,     0.63764,     0.63864,     0.63964,     0.64064,     0.64164,     0.64264,     0.64364,     0.64464,     0.64565,     0.64665,     0.64765,\n",
              "           0.64865,     0.64965,     0.65065,     0.65165,     0.65265,     0.65365,     0.65465,     0.65566,     0.65666,     0.65766,     0.65866,     0.65966,     0.66066,     0.66166,     0.66266,     0.66366,     0.66466,     0.66567,     0.66667,     0.66767,     0.66867,     0.66967,     0.67067,     0.67167,\n",
              "           0.67267,     0.67367,     0.67467,     0.67568,     0.67668,     0.67768,     0.67868,     0.67968,     0.68068,     0.68168,     0.68268,     0.68368,     0.68468,     0.68569,     0.68669,     0.68769,     0.68869,     0.68969,     0.69069,     0.69169,     0.69269,     0.69369,     0.69469,      0.6957,\n",
              "            0.6967,      0.6977,      0.6987,      0.6997,      0.7007,      0.7017,      0.7027,      0.7037,      0.7047,     0.70571,     0.70671,     0.70771,     0.70871,     0.70971,     0.71071,     0.71171,     0.71271,     0.71371,     0.71471,     0.71572,     0.71672,     0.71772,     0.71872,     0.71972,\n",
              "           0.72072,     0.72172,     0.72272,     0.72372,     0.72472,     0.72573,     0.72673,     0.72773,     0.72873,     0.72973,     0.73073,     0.73173,     0.73273,     0.73373,     0.73473,     0.73574,     0.73674,     0.73774,     0.73874,     0.73974,     0.74074,     0.74174,     0.74274,     0.74374,\n",
              "           0.74474,     0.74575,     0.74675,     0.74775,     0.74875,     0.74975,     0.75075,     0.75175,     0.75275,     0.75375,     0.75475,     0.75576,     0.75676,     0.75776,     0.75876,     0.75976,     0.76076,     0.76176,     0.76276,     0.76376,     0.76476,     0.76577,     0.76677,     0.76777,\n",
              "           0.76877,     0.76977,     0.77077,     0.77177,     0.77277,     0.77377,     0.77477,     0.77578,     0.77678,     0.77778,     0.77878,     0.77978,     0.78078,     0.78178,     0.78278,     0.78378,     0.78478,     0.78579,     0.78679,     0.78779,     0.78879,     0.78979,     0.79079,     0.79179,\n",
              "           0.79279,     0.79379,     0.79479,      0.7958,      0.7968,      0.7978,      0.7988,      0.7998,      0.8008,      0.8018,      0.8028,      0.8038,      0.8048,     0.80581,     0.80681,     0.80781,     0.80881,     0.80981,     0.81081,     0.81181,     0.81281,     0.81381,     0.81481,     0.81582,\n",
              "           0.81682,     0.81782,     0.81882,     0.81982,     0.82082,     0.82182,     0.82282,     0.82382,     0.82482,     0.82583,     0.82683,     0.82783,     0.82883,     0.82983,     0.83083,     0.83183,     0.83283,     0.83383,     0.83483,     0.83584,     0.83684,     0.83784,     0.83884,     0.83984,\n",
              "           0.84084,     0.84184,     0.84284,     0.84384,     0.84484,     0.84585,     0.84685,     0.84785,     0.84885,     0.84985,     0.85085,     0.85185,     0.85285,     0.85385,     0.85485,     0.85586,     0.85686,     0.85786,     0.85886,     0.85986,     0.86086,     0.86186,     0.86286,     0.86386,\n",
              "           0.86486,     0.86587,     0.86687,     0.86787,     0.86887,     0.86987,     0.87087,     0.87187,     0.87287,     0.87387,     0.87487,     0.87588,     0.87688,     0.87788,     0.87888,     0.87988,     0.88088,     0.88188,     0.88288,     0.88388,     0.88488,     0.88589,     0.88689,     0.88789,\n",
              "           0.88889,     0.88989,     0.89089,     0.89189,     0.89289,     0.89389,     0.89489,      0.8959,      0.8969,      0.8979,      0.8989,      0.8999,      0.9009,      0.9019,      0.9029,      0.9039,      0.9049,     0.90591,     0.90691,     0.90791,     0.90891,     0.90991,     0.91091,     0.91191,\n",
              "           0.91291,     0.91391,     0.91491,     0.91592,     0.91692,     0.91792,     0.91892,     0.91992,     0.92092,     0.92192,     0.92292,     0.92392,     0.92492,     0.92593,     0.92693,     0.92793,     0.92893,     0.92993,     0.93093,     0.93193,     0.93293,     0.93393,     0.93493,     0.93594,\n",
              "           0.93694,     0.93794,     0.93894,     0.93994,     0.94094,     0.94194,     0.94294,     0.94394,     0.94494,     0.94595,     0.94695,     0.94795,     0.94895,     0.94995,     0.95095,     0.95195,     0.95295,     0.95395,     0.95495,     0.95596,     0.95696,     0.95796,     0.95896,     0.95996,\n",
              "           0.96096,     0.96196,     0.96296,     0.96396,     0.96496,     0.96597,     0.96697,     0.96797,     0.96897,     0.96997,     0.97097,     0.97197,     0.97297,     0.97397,     0.97497,     0.97598,     0.97698,     0.97798,     0.97898,     0.97998,     0.98098,     0.98198,     0.98298,     0.98398,\n",
              "           0.98498,     0.98599,     0.98699,     0.98799,     0.98899,     0.98999,     0.99099,     0.99199,     0.99299,     0.99399,     0.99499,       0.996,       0.997,       0.998,       0.999,           1]), array([[       0.36,        0.36,        0.36, ...,           0,           0,           0],\n",
              "       [    0.45902,     0.45902,     0.45082, ...,           0,           0,           0],\n",
              "       [    0.66061,     0.66061,     0.64242, ...,           0,           0,           0],\n",
              "       [    0.53175,     0.53175,     0.50794, ...,           0,           0,           0],\n",
              "       [       0.15,        0.15,        0.05, ...,           0,           0,           0],\n",
              "       [    0.65591,     0.65591,     0.64516, ...,           0,           0,           0]]), 'Confidence', 'Recall']]\n",
              "fitness: 0.03365576094382125\n",
              "keys: ['metrics/precision(B)', 'metrics/recall(B)', 'metrics/mAP50(B)', 'metrics/mAP50-95(B)']\n",
              "maps: array([   0.031819,    0.011565,    0.031231,    0.054799,  0.00014604,    0.035026])\n",
              "names: {0: 'bowing-head', 1: 'hand-raising', 2: 'learning-over-the-table', 3: 'reading', 4: 'using-mobile', 5: 'writing'}\n",
              "plot: True\n",
              "results_dict: {'metrics/precision(B)': 0.3796361741152532, 'metrics/recall(B)': 0.13395104816627065, 'metrics/mAP50(B)': 0.08968034474212733, 'metrics/mAP50-95(B)': 0.027430807188453907, 'fitness': 0.03365576094382125}\n",
              "save_dir: PosixPath('/content/Project_Students/train')\n",
              "speed: {'preprocess': 3.580263367405644, 'inference': 264.1144416950367, 'loss': 0.00016115329883716726, 'postprocess': 17.17427924827293}\n",
              "task: 'detect'"
            ]
          },
          "metadata": {},
          "execution_count": 4
        }
      ]
    },
    {
      "cell_type": "code",
      "source": [],
      "metadata": {
        "id": "cWDSfl4TZ-xB",
        "outputId": "c2772605-f925-4d8c-cfcc-02e1775425ba",
        "colab": {
          "base_uri": "https://localhost:8080/",
          "height": 141
        }
      }
    }
  ]
}
